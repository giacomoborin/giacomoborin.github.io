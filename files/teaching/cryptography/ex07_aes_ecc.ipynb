{
 "cells": [
  {
   "cell_type": "markdown",
   "id": "6d831029",
   "metadata": {},
   "source": [
    "# Exercise sheet 07\n",
    "\n",
    "AES key scheduling in `SageMath`."
   ]
  },
  {
   "cell_type": "code",
   "execution_count": null,
   "id": "58777cb4",
   "metadata": {
    "vscode": {
     "languageId": "sage"
    }
   },
   "outputs": [
    {
     "data": {
      "text/plain": [
       "a^4 + a^3 + a + 1"
      ]
     },
     "execution_count": 20,
     "metadata": {},
     "output_type": "execute_result"
    }
   ],
   "source": [
    "# first we define the field GF(2^8) with \n",
    "# as a modulus of the irreducible polynomial x^8 + x^4 + x^3 + x + 1\n",
    "F8.<a> = GF(2**8, modulus=x**8 + x**4 + x**3 + x + 1)\n",
    "R.<x> = GF(2)[]\n",
    "a**8"
   ]
  },
  {
   "cell_type": "code",
   "execution_count": 21,
   "id": "18f3ffc1",
   "metadata": {
    "vscode": {
     "languageId": "sage"
    }
   },
   "outputs": [],
   "source": [
    "# field inversion\n",
    "def phi1(z, out = True):\n",
    "    if z == 0:\n",
    "        zz = 0\n",
    "    else:\n",
    "        zz = z**-1\n",
    "    if out:\n",
    "        print(f\"phi1 : in  = {z},\\n       out = {zz}\")\n",
    "    return zz\n",
    "\n",
    "# nibble shifting\n",
    "def L(z, out = True):\n",
    "    p = R(z.list())\n",
    "    p = (x**4 + x**3 + x**2 + x + 1) * p\n",
    "    p %= (x**8 - 1)\n",
    "    zz = F8(p.list())\n",
    "    if out:\n",
    "        print(f\"L    : out = {zz}\")\n",
    "    return zz\n",
    "\n",
    "# affine transformation\n",
    "def phi3(z, out = True):\n",
    "    zz = z + a**6 + a**5 + a + 1\n",
    "    if out:\n",
    "        print(f\"phi3 : out = {zz}\\n\")\n",
    "    return zz\n",
    "\n",
    "# composition\n",
    "def phi(z, out = True):\n",
    "    return phi3(L(phi1(z, out = out), out = out), out = out)\n",
    "\n",
    "    "
   ]
  },
  {
   "cell_type": "code",
   "execution_count": 22,
   "id": "ab1c4670",
   "metadata": {
    "vscode": {
     "languageId": "sage"
    }
   },
   "outputs": [
    {
     "name": "stdout",
     "output_type": "stream",
     "text": [
      "phi1 : in  = a^6 + a^5 + 1,\n",
      "       out = a^6 + a^4 + a^3 + a^2 + a\n",
      "L    : out = a^7 + a^3 + a^2\n",
      "phi3 : out = a^7 + a^6 + a^5 + a^3 + a^2 + a + 1\n",
      "\n"
     ]
    }
   ],
   "source": [
    "k0 = a**6 + a**5 + 1\n",
    "k1 = phi(k0, out = True)\n"
   ]
  },
  {
   "cell_type": "code",
   "execution_count": 23,
   "id": "9484a9f2",
   "metadata": {
    "vscode": {
     "languageId": "sage"
    }
   },
   "outputs": [
    {
     "name": "stdout",
     "output_type": "stream",
     "text": [
      "[[0, 0, 0, 0], [0, 0, 0, 0], [0, 0, 0, 0], [0, 0, 0, 0]]\n"
     ]
    }
   ],
   "source": [
    "key_zero = [ [ F8(0) for _ in range(4) ] for _ in range(4) ]\n",
    "print(key_zero)"
   ]
  },
  {
   "cell_type": "code",
   "execution_count": 24,
   "id": "bfd1a53c",
   "metadata": {
    "vscode": {
     "languageId": "sage"
    }
   },
   "outputs": [],
   "source": [
    "def key_schedule(key, round, out = True):\n",
    "    if out:\n",
    "        print(f\"key_schedule : round = {round} starting\")\n",
    "    key_new = [ [ k for k in kk ] for kk in key ]\n",
    "    for i in range(4):\n",
    "        if out:\n",
    "            print(f\"key_schedule : round = {round}, i = {i}\")\n",
    "        if i == 0:\n",
    "            for j in range(4):\n",
    "                if j == 0:\n",
    "                    key_new[0][0] += phi(key[3][1]) + a**(round)\n",
    "                else:\n",
    "                    key_new[0][j] += phi(key[3][(j + 1) % 4])\n",
    "        else:\n",
    "            for j in range(4):\n",
    "                key_new[i][j] += key_new[i-1][j]\n",
    "    return key_new\n",
    "    "
   ]
  },
  {
   "cell_type": "code",
   "execution_count": 25,
   "id": "969a95cd",
   "metadata": {
    "vscode": {
     "languageId": "sage"
    }
   },
   "outputs": [
    {
     "name": "stdout",
     "output_type": "stream",
     "text": [
      "key_schedule : round = 0 starting\n",
      "key_schedule : round = 0, i = 0\n",
      "phi1 : in  = 0,\n",
      "       out = 0\n",
      "L    : out = 0\n",
      "phi3 : out = a^6 + a^5 + a + 1\n",
      "\n",
      "phi1 : in  = 0,\n",
      "       out = 0\n",
      "L    : out = 0\n",
      "phi3 : out = a^6 + a^5 + a + 1\n",
      "\n",
      "phi1 : in  = 0,\n",
      "       out = 0\n",
      "L    : out = 0\n",
      "phi3 : out = a^6 + a^5 + a + 1\n",
      "\n",
      "phi1 : in  = 0,\n",
      "       out = 0\n",
      "L    : out = 0\n",
      "phi3 : out = a^6 + a^5 + a + 1\n",
      "\n",
      "key_schedule : round = 0, i = 1\n",
      "key_schedule : round = 0, i = 2\n",
      "key_schedule : round = 0, i = 3\n",
      "a^6 + a^5 + a , a^6 + a^5 + a + 1 , a^6 + a^5 + a + 1 , a^6 + a^5 + a + 1 , \n",
      "a^6 + a^5 + a , a^6 + a^5 + a + 1 , a^6 + a^5 + a + 1 , a^6 + a^5 + a + 1 , \n",
      "a^6 + a^5 + a , a^6 + a^5 + a + 1 , a^6 + a^5 + a + 1 , a^6 + a^5 + a + 1 , \n",
      "a^6 + a^5 + a , a^6 + a^5 + a + 1 , a^6 + a^5 + a + 1 , a^6 + a^5 + a + 1 , \n"
     ]
    }
   ],
   "source": [
    "key_round_1 = key_schedule(key_zero, 0, out = True)\n",
    "# for k in key_round_1:\n",
    "#   print(k)\n",
    "for k in key_round_1:\n",
    "    for kk in k:\n",
    "        print(kk, end = \" , \")\n",
    "        # print(list(reversed(kk.list())), end = \" | \")\n",
    "    print()"
   ]
  },
  {
   "cell_type": "code",
   "execution_count": 26,
   "id": "b20684b7",
   "metadata": {
    "vscode": {
     "languageId": "sage"
    }
   },
   "outputs": [
    {
     "name": "stdout",
     "output_type": "stream",
     "text": [
      "phi1 : in  = a^6 + a^5 + a + 1,\n",
      "       out = a^7 + a^6 + a^4 + a + 1\n",
      "L    : out = a^7 + a^4 + a^3\n",
      "phi3 : out = a^7 + a^6 + a^5 + a^4 + a^3 + a + 1\n",
      "\n",
      "phi1 : in  = a^6 + a^5 + a + 1,\n",
      "       out = a^7 + a^6 + a^4 + a + 1\n",
      "L    : out = a^7 + a^4 + a^3\n",
      "phi3 : out = a^7 + a^6 + a^5 + a^4 + a^3 + a + 1\n",
      "\n",
      "phi1 : in  = a^6 + a^5 + a + 1,\n",
      "       out = a^7 + a^6 + a^4 + a + 1\n",
      "L    : out = a^7 + a^4 + a^3\n",
      "phi3 : out = a^7 + a^6 + a^5 + a^4 + a^3 + a + 1\n",
      "\n",
      "phi1 : in  = a^6 + a^5 + a,\n",
      "       out = a^7 + a^5 + a^3 + a^2 + a + 1\n",
      "L    : out = a^7 + a^6 + a^3 + 1\n",
      "phi3 : out = a^7 + a^5 + a^3 + a\n",
      "\n",
      "\n",
      "k_0^(2) = a^7 + a^4 + a^3 + a + 1 , a^7 + a^4 + a^3 , a^7 + a^4 + a^3 , a^7 + a^6 + a^3 + 1 , \n",
      "k_1^(2) = a^7 + a^6 + a^5 + a^4 + a^3 + 1 , a^7 + a^6 + a^5 + a^4 + a^3 + a + 1 , a^7 + a^6 + a^5 + a^4 + a^3 + a + 1 , a^7 + a^5 + a^3 + a , \n",
      "k_2^(2) = a^7 + a^4 + a^3 + a + 1 , a^7 + a^4 + a^3 , a^7 + a^4 + a^3 , a^7 + a^6 + a^3 + 1 , \n",
      "k_3^(2) = a^7 + a^6 + a^5 + a^4 + a^3 + 1 , a^7 + a^6 + a^5 + a^4 + a^3 + a + 1 , a^7 + a^6 + a^5 + a^4 + a^3 + a + 1 , a^7 + a^5 + a^3 + a , \n"
     ]
    }
   ],
   "source": [
    "key_round_2 = key_schedule(key_round_1, 1, out = False)\n",
    "print()\n",
    "i = 0\n",
    "for k in key_round_2:\n",
    "    print(f\"k_{i}^(2) =\", end = \" \")\n",
    "    i += 1\n",
    "    for kk in k:\n",
    "        print(kk, end = \" , \")\n",
    "        # print(list(reversed(kk.list())), end = \" | \")\n",
    "    print()"
   ]
  },
  {
   "cell_type": "markdown",
   "id": "1f93a386",
   "metadata": {},
   "source": [
    "## Elliptic formulas\n",
    "from https://hyperelliptic.org/EFD/g1p/auto-shortw.html"
   ]
  },
  {
   "cell_type": "code",
   "execution_count": 27,
   "id": "76fa20d0",
   "metadata": {
    "vscode": {
     "languageId": "sage"
    }
   },
   "outputs": [],
   "source": [
    "def add_proj(P1, P2):\n",
    "    \"\"\"\n",
    "    https://hyperelliptic.org/EFD/g1p/auto-shortw-jacobian.html#addition-add-1998-cmo-2\n",
    "    \"\"\"\n",
    "    X1, Y1, Z1 = P1\n",
    "    X2, Y2, Z2 = P2\n",
    "    \n",
    "    Z1Z1 = Z1**2\n",
    "    print(f\"Z1Z1 = {Z1Z1}\")\n",
    "    Z2Z2 = Z2**2\n",
    "    print(f\"Z2Z2 = {Z2Z2}\")\n",
    "    U1 = X1*Z2Z2\n",
    "    print(f\"U1 = {U1}\")\n",
    "    U2 = X2*Z1Z1\n",
    "    print(f\"U2 = {U2}\")\n",
    "    S1 = Y1*Z2*Z2Z2\n",
    "    print(f\"S1 = {S1}\")\n",
    "    S2 = Y2*Z1*Z1Z1\n",
    "    print(f\"S2 = {S2}\")\n",
    "    H = U2-U1\n",
    "    print(f\"H = {H}\")\n",
    "    HH = H**2\n",
    "    print(f\"HH = {HH}\")\n",
    "    HHH = H*HH\n",
    "    print(f\"HHH = {HHH}\")\n",
    "    r = S2-S1\n",
    "    print(f\"r = {r}\")\n",
    "    V = U1*HH\n",
    "    print(f\"V = {V}\")\n",
    "    X3 = r**2-HHH-2*V\n",
    "    Y3 = r*(V-X3)-S1*HHH\n",
    "    Z3 = Z1*Z2*H\n",
    "\n",
    "    return (X3, Y3, Z3)"
   ]
  },
  {
   "cell_type": "code",
   "execution_count": 28,
   "id": "7b4b5c04",
   "metadata": {
    "vscode": {
     "languageId": "sage"
    }
   },
   "outputs": [],
   "source": [
    "def double_proj(P, a = 1):\n",
    "    \"\"\"\n",
    "    https://hyperelliptic.org/EFD/g1p/auto-shortw-jacobian.html#doubling-dbl-2007-bl\n",
    "    \"\"\"\n",
    "    X1, Y1, Z1 = P\n",
    "    XX = X1**2\n",
    "    print(f\"XX = {XX}\")\n",
    "    YY = Y1**2\n",
    "    print(f\"YY = {YY}\")\n",
    "    YYYY = YY**2\n",
    "    print(f\"YYYY = {YYYY}\")\n",
    "    ZZ = Z1**2\n",
    "    print(f\"ZZ = {ZZ}\")\n",
    "    S = 2*((X1+YY)**2-XX-YYYY)\n",
    "    print(f\"S = {S}\")\n",
    "    M = 3*XX+a*ZZ**2\n",
    "    print(f\"M = {M}\")\n",
    "    T = M**2-2*S\n",
    "    print(f\"T = {T}\")\n",
    "    X3 = T\n",
    "    Y3 = M*(S-T)-8*YYYY\n",
    "    Z3 = (Y1+Z1)**2-YY-ZZ\n",
    "\n",
    "    return (X3, Y3, Z3)"
   ]
  },
  {
   "cell_type": "code",
   "execution_count": null,
   "id": "a75ce413",
   "metadata": {
    "vscode": {
     "languageId": "sage"
    }
   },
   "outputs": [
    {
     "name": "stdout",
     "output_type": "stream",
     "text": [
      "Z1Z1 = 1\n",
      "Z2Z2 = 1\n",
      "U1 = 1\n",
      "U2 = 3\n",
      "S1 = 38\n",
      "S2 = 37\n",
      "H = 2\n",
      "HH = 4\n",
      "HHH = 8\n",
      "r = 102\n",
      "V = 4\n",
      "X3 = 88, Y3 = 89, Z3 = 2\n",
      "x3 = 22, y3 = 24\n",
      "--------------------\n",
      "Z1Z1 = 4\n",
      "Z2Z2 = 1\n",
      "U1 = 88\n",
      "U2 = 0\n",
      "S1 = 89\n",
      "S2 = 0\n",
      "H = 15\n",
      "HH = 19\n",
      "HHH = 79\n",
      "r = 14\n",
      "V = 24\n",
      "X4 = 69, Y4 = 64, Z4 = 30\n",
      "x4 = 89, y4 = 34\n"
     ]
    }
   ],
   "source": [
    "F = GF(103)\n",
    "X1 = F(1)\n",
    "Y1 = F(38)\n",
    "Z1 = F(1)\n",
    "\n",
    "X2 = F(3)\n",
    "Y2 = F(37)\n",
    "Z2 = F(1)\n",
    "\n",
    "\n",
    "X3, Y3, Z3 = add_proj((X1, Y1, Z1), (X2, Y2, Z2))\n",
    "\n",
    "print(f\"X3 = {X3}, Y3 = {Y3}, Z3 = {Z3}\")\n",
    "print(f\"x3 = {X3/(Z3**2)}, y3 = {Y3/(Z3**3)}\")\n",
    "print('-'*20)\n",
    "X4, Y4, Z4 = add_proj((X3, Y3, Z3), (0, 0, 1))\n",
    "print(f\"X4 = {X4}, Y4 = {Y4}, Z4 = {Z4}\")\n",
    "print(f\"x4 = {X4/(Z4**2)}, y4 = {Y4/(Z4**3)}\")"
   ]
  },
  {
   "cell_type": "code",
   "execution_count": 31,
   "id": "a45cb6b8",
   "metadata": {
    "vscode": {
     "languageId": "sage"
    }
   },
   "outputs": [
    {
     "name": "stdout",
     "output_type": "stream",
     "text": [
      "XX = 9\n",
      "YY = 30\n",
      "YYYY = 76\n",
      "ZZ = 1\n",
      "S = 51\n",
      "M = 28\n",
      "T = 64\n",
      "X3 = 64, Y3 = 58, Z3 = 74\n",
      "x3 = 28, y3 = 12\n",
      "--------------------\n",
      "XX = 79\n",
      "YY = 68\n",
      "YYYY = 92\n",
      "ZZ = 17\n",
      "S = 1\n",
      "M = 11\n",
      "T = 16\n",
      "X3 = 16, Y3 = 26, Z3 = 35\n",
      "x3 = 36, y3 = 62\n"
     ]
    }
   ],
   "source": [
    "F = GF(103)\n",
    "X2 = F(3)\n",
    "Y2 = F(37)\n",
    "Z2 = F(1)\n",
    "\n",
    "X3, Y3, Z3 = double_proj((X2, Y2, Z2))\n",
    "print(f\"X3 = {X3}, Y3 = {Y3}, Z3 = {Z3}\")\n",
    "print(f\"x3 = {X3/(Z3**2)}, y3 = {Y3/(Z3**3)}\")\n",
    "print('-'*20)\n",
    "X3, Y3, Z3 = double_proj((X3, Y3, Z3))\n",
    "print(f\"X3 = {X3}, Y3 = {Y3}, Z3 = {Z3}\")\n",
    "print(f\"x3 = {X3/(Z3**2)}, y3 = {Y3/(Z3**3)}\")"
   ]
  },
  {
   "cell_type": "code",
   "execution_count": null,
   "id": "f61ee379",
   "metadata": {
    "vscode": {
     "languageId": "sage"
    }
   },
   "outputs": [],
   "source": []
  },
  {
   "cell_type": "code",
   "execution_count": null,
   "id": "26792487",
   "metadata": {
    "vscode": {
     "languageId": "sage"
    }
   },
   "outputs": [],
   "source": []
  }
 ],
 "metadata": {
  "kernelspec": {
   "display_name": "SageMath 10.5",
   "language": "sage",
   "name": "SageMath-10.5"
  },
  "language_info": {
   "codemirror_mode": {
    "name": "ipython",
    "version": 3
   },
   "file_extension": ".py",
   "mimetype": "text/x-python",
   "name": "python",
   "nbconvert_exporter": "python",
   "pygments_lexer": "ipython3",
   "version": "3.12.5"
  }
 },
 "nbformat": 4,
 "nbformat_minor": 5
}
