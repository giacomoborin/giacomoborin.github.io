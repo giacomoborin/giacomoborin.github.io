{
 "cells": [
  {
   "cell_type": "markdown",
   "metadata": {},
   "source": [
    "# Exercise 07\n",
    "\n",
    "Here we use `Python` to perform the key schedule of AES."
   ]
  },
  {
   "cell_type": "code",
   "execution_count": 5,
   "metadata": {},
   "outputs": [
    {
     "name": "stdout",
     "output_type": "stream",
     "text": [
      "62636363 62636363 62636363 62636363 \n",
      "9b9898c9 f9fbfbaa 9b9898c9 f9fbfbaa \n",
      "90973450 696ccffa f2f45733 0b0fac99 \n",
      "ee06da7b 876a1581 759e42b2 7e91ee2b \n",
      "7f2e2b88 f8443e09 8dda7cbb f34b9290 \n",
      "ec614b85 1425758c 99ff0937 6ab49ba7 \n",
      "21751787 3550620b acaf6b3c c61bf09b \n",
      "0ef90333 3ba96138 97060a04 511dfa9f \n",
      "b1d4d8e2 8a7db9da 1d7bb3de 4c664941 \n",
      "b4ef5bcb 3e92e211 23e951cf 6f8f188e \n",
      "b4ef5bcb 3e92e211 23e951cf 6f8f188e "
     ]
    }
   ],
   "source": [
    "def rotate_left(value):\n",
    "    '''\n",
    "    equivalent to the multiplication by x^3\n",
    "    '''\n",
    "    mask = (1 << 32) - 1\n",
    "    return ((value << 8) & mask) | ((value & mask) >> (32 - 8))\n",
    "\n",
    "def sub_word(word):\n",
    "    s_box = [\n",
    "        0x63, 0x7c, 0x77, 0x7b, 0xf2, 0x6b, 0x6f, 0xc5, 0x30, 0x01, 0x67, 0x2b, 0xfe, 0xd7, 0xab, 0x76,\n",
    "        0xca, 0x82, 0xc9, 0x7d, 0xfa, 0x59, 0x47, 0xf0, 0xad, 0xd4, 0xa2, 0xaf, 0x9c, 0xa4, 0x72, 0xc0,\n",
    "        0xb7, 0xfd, 0x93, 0x26, 0x36, 0x3f, 0xf7, 0xcc, 0x34, 0xa5, 0xe5, 0xf1, 0x71, 0xd8, 0x31, 0x15,\n",
    "        0x04, 0xc7, 0x23, 0xc3, 0x18, 0x96, 0x05, 0x9a, 0x07, 0x12, 0x80, 0xe2, 0xeb, 0x27, 0xb2, 0x75,\n",
    "        0x09, 0x83, 0x2c, 0x1a, 0x1b, 0x6e, 0x5a, 0xa0, 0x52, 0x3b, 0xd6, 0xb3, 0x29, 0xe3, 0x2f, 0x84,\n",
    "        0x53, 0xd1, 0x00, 0xed, 0x20, 0xfc, 0xb1, 0x5b, 0x6a, 0xcb, 0xbe, 0x39, 0x4a, 0x4c, 0x58, 0xcf,\n",
    "        0xd0, 0xef, 0xaa, 0xfb, 0x43, 0x4d, 0x33, 0x85, 0x45, 0xf9, 0x02, 0x7f, 0x50, 0x3c, 0x9f, 0xa8,\n",
    "        0x51, 0xa3, 0x40, 0x8f, 0x92, 0x9d, 0x38, 0xf5, 0xbc, 0xb6, 0xda, 0x21, 0x10, 0xff, 0xf3, 0xd2,\n",
    "        0xcd, 0x0c, 0x13, 0xec, 0x5f, 0x97, 0x44, 0x17, 0xc4, 0xa7, 0x7e, 0x3d, 0x64, 0x5d, 0x19, 0x73,\n",
    "        0x60, 0x81, 0x4f, 0xdc, 0x22, 0x2a, 0x90, 0x88, 0x46, 0xee, 0xb8, 0x14, 0xde, 0x5e, 0x0b, 0xdb,\n",
    "        0xe0, 0x32, 0x3a, 0x0a, 0x49, 0x06, 0x24, 0x5c, 0xc2, 0xd3, 0xac, 0x62, 0x91, 0x95, 0xe4, 0x79,\n",
    "        0xe7, 0xc8, 0x37, 0x6d, 0x8d, 0xd5, 0x4e, 0xa9, 0x6c, 0x56, 0xf4, 0xea, 0x65, 0x7a, 0xae, 0x08,\n",
    "        0xba, 0x78, 0x25, 0x2e, 0x1c, 0xa6, 0xb4, 0xc6, 0xe8, 0xdd, 0x74, 0x1f, 0x4b, 0xbd, 0x8b, 0x8a,\n",
    "        0x70, 0x3e, 0xb5, 0x66, 0x48, 0x03, 0xf6, 0x0e, 0x61, 0x35, 0x57, 0xb9, 0x86, 0xc1, 0x1d, 0x9e,\n",
    "        0xe1, 0xf8, 0x98, 0x11, 0x69, 0xd9, 0x8e, 0x94, 0x9b, 0x1e, 0x87, 0xe9, 0xce, 0x55, 0x28, 0xdf,\n",
    "        0x8c, 0xa1, 0x89, 0x0d, 0xbf, 0xe6, 0x42, 0x68, 0x41, 0x99, 0x2d, 0x0f, 0xb0, 0x54, 0xbb, 0x16\n",
    "    ]\n",
    "    return (s_box[(word >> 24) & 0xFF] << 24) | \\\n",
    "           (s_box[(word >> 16) & 0xFF] << 16) | \\\n",
    "           (s_box[(word >> 8) & 0xFF] << 8) | \\\n",
    "           (s_box[word & 0xFF])\n",
    "\n",
    "# cipher_key = 0x2b7e151628aed2a6abf7158809cf4f3c\n",
    "key = [0x00000000, 0x00000000, 0x00000000, 0x00000000]\n",
    "\n",
    "# addition by alpha^t\n",
    "round_constants = [ 0x01000000, 0x02000000, 0x04000000, 0x08000000, 0x10000000, 0x20000000, 0x40000000, 0x80000000, 0x1B000000, 0x36000000 ]\n",
    "\n",
    "\n",
    "for i in range(10):\n",
    "    key[0] ^= sub_word(rotate_left(key[3])) \n",
    "    key[0] ^= round_constants[i]\n",
    "    key[1] ^= key[0]\n",
    "    key[2] ^= key[1]\n",
    "    key[3] ^= key[2]\n",
    "    for k in key:\n",
    "        print(f\"{k:08x}\", end=' ')\n",
    "    print()\n",
    "\n",
    "for k in key:\n",
    "    print(f\"{k:08x}\", end=' ')\n",
    "\n",
    "\n"
   ]
  },
  {
   "cell_type": "code",
   "execution_count": 6,
   "metadata": {},
   "outputs": [
    {
     "name": "stdout",
     "output_type": "stream",
     "text": [
      "00000000000000000000000000000000 00000000000000000000000000000000 00000000000000000000000000000000 00000000000000000000000000000000 \n",
      "01100010011000110110001101100011 01100010011000110110001101100011 01100010011000110110001101100011 01100010011000110110001101100011 \n",
      "10011011100110001001100011001001 11111001111110111111101110101010 10011011100110001001100011001001 11111001111110111111101110101010 \n",
      "10010000100101110011010001010000 01101001011011001100111111111010 11110010111101000101011100110011 00001011000011111010110010011001 \n",
      "11101110000001101101101001111011 10000111011010100001010110000001 01110101100111100100001010110010 01111110100100011110111000101011 \n",
      "01111111001011100010101110001000 11111000010001000011111000001001 10001101110110100111110010111011 11110011010010111001001010010000 \n",
      "11101100011000010100101110000101 00010100001001010111010110001100 10011001111111110000100100110111 01101010101101001001101110100111 \n",
      "00100001011101010001011110000111 00110101010100000110001000001011 10101100101011110110101100111100 11000110000110111111000010011011 \n",
      "00001110111110010000001100110011 00111011101010010110000100111000 10010111000001100000101000000100 01010001000111011111101010011111 \n",
      "10110001110101001101100011100010 10001010011111011011100111011010 00011101011110111011001111011110 01001100011001100100100101000001 \n",
      "10110100111011110101101111001011 00111110100100101110001000010001 00100011111010010101000111001111 01101111100011110001100010001110 \n"
     ]
    }
   ],
   "source": [
    "BIT_EXP = True\n",
    "\n",
    "# cipher_key = 0x2b7e151628aed2a6abf7158809cf4f3c\n",
    "key = [0x00000000, 0x00000000, 0x00000000, 0x00000000]\n",
    "\n",
    "for k in key:\n",
    "    if BIT_EXP:\n",
    "        print(f\"{k:032b}\", end=' ')\n",
    "    else:\n",
    "        print(f\"{k:08x}\", end=' ')\n",
    "print()\n",
    "\n",
    "\n",
    "\n",
    "# addition by alpha^t\n",
    "round_constants = [ 0x01000000, 0x02000000, 0x04000000, 0x08000000, 0x10000000, 0x20000000, 0x40000000, 0x80000000, 0x1B000000, 0x36000000 ]\n",
    "\n",
    "\n",
    "for i in range(10):\n",
    "    key[0] ^= sub_word(rotate_left(key[3])) \n",
    "    key[0] ^= round_constants[i]\n",
    "    key[1] ^= key[0]\n",
    "    key[2] ^= key[1]\n",
    "    key[3] ^= key[2]\n",
    "    for k in key:\n",
    "        if BIT_EXP:\n",
    "            print(f\"{k:032b}\", end=' ')\n",
    "        else:\n",
    "            print(f\"{k:08x}\", end=' ')\n",
    "    print()\n"
   ]
  },
  {
   "cell_type": "code",
   "execution_count": null,
   "metadata": {},
   "outputs": [],
   "source": []
  }
 ],
 "metadata": {
  "kernelspec": {
   "display_name": "Python 3",
   "language": "python",
   "name": "python3"
  },
  "language_info": {
   "codemirror_mode": {
    "name": "ipython",
    "version": 3
   },
   "file_extension": ".py",
   "mimetype": "text/x-python",
   "name": "python",
   "nbconvert_exporter": "python",
   "pygments_lexer": "ipython3",
   "version": "3.12.0"
  }
 },
 "nbformat": 4,
 "nbformat_minor": 2
}
