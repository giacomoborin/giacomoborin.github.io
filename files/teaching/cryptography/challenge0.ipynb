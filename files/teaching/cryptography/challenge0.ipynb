{
 "cells": [
  {
   "cell_type": "markdown",
   "metadata": {},
   "source": [
    "# Exercise sheet 1\n",
    "Lets try to quickly and safely encrypt some data.\n",
    "Tip: To pass from ASCII to 7-bits integers and vice versa you can use the function `chr` and `ord`.\n",
    "I will use it to generate a conversion table for you."
   ]
  },
  {
   "cell_type": "code",
   "execution_count": 2,
   "metadata": {},
   "outputs": [
    {
     "name": "stdout",
     "output_type": "stream",
     "text": [
      "!\"#$%&'()*+,-./0123456789:;<=>?@ABCDEFGHIJKLMNOPQRSTUVWXYZ[\\]^_`abcdefghijklmnopqrstuvwxyz{|}~"
     ]
    }
   ],
   "source": [
    "for i in range(33, 128):\n",
    "    print(chr(i), end='')"
   ]
  },
  {
   "cell_type": "markdown",
   "metadata": {},
   "source": [
    "We can use it to print a useful conversion table!"
   ]
  },
  {
   "cell_type": "code",
   "execution_count": 3,
   "metadata": {},
   "outputs": [
    {
     "name": "stdout",
     "output_type": "stream",
     "text": [
      "!  \"  #  $  %  &  '  (  )  *  +  ,  -  .  /  0  1  2  3  4  5  6  7  8  9  :  ;  <  =  >  ?  @  \n",
      "33 34 35 36 37 38 39 40 41 42 43 44 45 46 47 48 49 50 51 52 53 54 55 56 57 58 59 60 61 62 63 64 \n",
      "A  B  C  D  E  F  G  H  I  J  K  L  M  N  O  P  Q  R  S  T  U  V  W  X  Y  Z  [  \\  ]  ^  _  `  \n",
      "65 66 67 68 69 70 71 72 73 74 75 76 77 78 79 80 81 82 83 84 85 86 87 88 89 90 91 92 93 94 95 96 \n",
      "a  b  c  d   e   f   g   h   i   j   k   l   m   n   o   p   q   r   s   t   u   v   w   x   y\n",
      "97 98 99 100 101 102 103 104 105 106 107 108 109 110 111 112 113 114 115 116 117 118 119 120 121 \n",
      "z   {   |   }   ~   \n",
      "122 123 124 125 126 127 "
     ]
    }
   ],
   "source": [
    "table0 = '  '.join(chr(i) for i in range(33, 65)) + '  '\n",
    "print(table0)\n",
    "for c in table0.replace(' ', ''):\n",
    "    print(ord(c), end=' ')\n",
    "\n",
    "print()\n",
    "table = '  '.join(chr(i) for i in range(65, 97)) + '  '\n",
    "print(table)\n",
    "for c in table.replace(' ', ''):\n",
    "    print(ord(c), end=' ')\n",
    "\n",
    "print()\n",
    "table = '  '.join(chr(i) for i in range(97, 100)) + '  '\n",
    "table += '   '.join(chr(i) for i in range(100, 122)) \n",
    "print(table)\n",
    "for c in table.replace(' ', ''):\n",
    "    print(ord(c), end=' ')\n",
    "print()\n",
    "\n",
    "table = '   '.join(chr(i) for i in range(122, 128)) \n",
    "print(table)\n",
    "for c in table.replace(' ', ''):\n",
    "    print(ord(c), end=' ')"
   ]
  },
  {
   "cell_type": "markdown",
   "metadata": {},
   "source": [
    "## Encryption and Decryption\n",
    "\n",
    "Here some linear encryption function.\n",
    "\n",
    "Note that I both:\n",
    "\n",
    "- sanitize the input (check in they are the one I want to encrypt)\n",
    "- check the secret key allows for inversion (i.e. $\\gcd (a,93) = 1$)"
   ]
  },
  {
   "cell_type": "code",
   "execution_count": 4,
   "metadata": {},
   "outputs": [
    {
     "name": "stdout",
     "output_type": "stream",
     "text": [
      "Original: Hello, People!\n",
      "Encrypted: e|;;GR (|GK;|&\n",
      "Decrypted: Hello, People!\n"
     ]
    }
   ],
   "source": [
    "# here the encryption and decryption functions I have used\n",
    "\n",
    "import math\n",
    "\n",
    "def encrypt_char(char, sk):\n",
    "    if ord(char) < 33 or ord(char) >= 127:\n",
    "        return char\n",
    "    A, k = sk\n",
    "    assert math.gcd(A, 93) == 1\n",
    "    return chr(((A * (ord(char) - 33) + k) % 93) + 33)\n",
    "\n",
    "def encrypt(s,sk):\n",
    "    return ''.join(encrypt_char(c, sk) for c in s)\n",
    "\n",
    "def decrypt_char(char, sk):\n",
    "    if ord(char) < 33 or ord(char) >= 127:\n",
    "        return char\n",
    "    A, k = sk\n",
    "    y = pow(A, -1, 93)\n",
    "    return chr((y * ((ord(char) - 33 - k)) % 93) + 33)\n",
    "\n",
    "def decrypt(s,sk):\n",
    "    return ''.join(decrypt_char(c, sk) for c in s)\n",
    "\n",
    "sk = (4, 5)\n",
    "s = 'Hello, People!'\n",
    "print(f'Original: {s}')\n",
    "e = encrypt(s, sk)\n",
    "print(f'Encrypted: {e}')\n",
    "d = decrypt(e, sk)\n",
    "print(f'Decrypted: {d}')"
   ]
  },
  {
   "cell_type": "code",
   "execution_count": 5,
   "metadata": {},
   "outputs": [
    {
     "name": "stdout",
     "output_type": "stream",
     "text": [
      "X4pYF J{[nj\"lk;Ae.; {lU\"hjlDk;bO\\Ri;4!\n",
      "XIp/Y!\n",
      "    XOj$F{! #[&5$\"D[/5W& XxOj$F{!\n",
      "    Xs7{n$j\"ln!\n",
      "        Xs7{n$j\"lA! ZB\"7$ )<Z J7Fl{[/BjFj${n Xxs7{n$j\"lA!\n",
      "        Xs7{n$j\"lT! `[\"J/BF{ n{U7[j$& \"1 MO` Xxs7{n$j\"lT!\n",
      "        Xs7{n$j\"lg! 6q` B/n{h U[&5$\"n&n${Yn  Xxs7{n$j\"lg!\n",
      "        Xs7{n$j\"lz! '\"[{ 4 Xxs7{n$j\"lz!\n",
      "    Xxs7{n$j\"ln!\n",
      "XxIp/Y!\n",
      "\n"
     ]
    }
   ],
   "source": [
    "# here the way I used them\n",
    "# this wont work for you!!!\n",
    "\n",
    "sk = (19, 7) # here there were the keys\n",
    "# Read the content of the file exam.xml\n",
    "with open('exam.xml', 'r') as file:\n",
    "    content = file.read()\n",
    "\n",
    "# Encrypt the content\n",
    "encrypted_content = encrypt(content, sk)\n",
    "\n",
    "print(encrypted_content)\n",
    "parsed_encrypted_content = repr(encrypted_content) # repr() is used to escape special characters\n",
    "# print(parsed_encrypted_content)\n",
    "\n",
    "# Write the encrypted content to a new file\n",
    "with open('exam_encrypted.xml', 'w') as file:\n",
    "    file.write(encrypted_content)"
   ]
  },
  {
   "cell_type": "code",
   "execution_count": 6,
   "metadata": {},
   "outputs": [
    {
     "data": {
      "text/plain": [
       "(55, 0)"
      ]
     },
     "execution_count": 6,
     "metadata": {},
     "output_type": "execute_result"
    }
   ],
   "source": [
    "ord('X') - 33, ord('!') - 33"
   ]
  },
  {
   "cell_type": "code",
   "execution_count": 17,
   "metadata": {},
   "outputs": [
    {
     "data": {
      "text/plain": [
       "(27, 29)"
      ]
     },
     "execution_count": 17,
     "metadata": {},
     "output_type": "execute_result"
    }
   ],
   "source": [
    "ord('<') - 33, ord('>') - 33"
   ]
  },
  {
   "cell_type": "code",
   "execution_count": 18,
   "metadata": {},
   "outputs": [
    {
     "name": "stdout",
     "output_type": "stream",
     "text": [
      "[27  1]\n",
      "[29  1] (55, 0)\n"
     ]
    }
   ],
   "source": [
    "A = matrix(Zmod(93), [ [ 27 , 1 ] , [ 29 , 1 ] ])\n",
    "b = vector(Zmod(93), [ 55 , 0 ])\n",
    "print(A, b)"
   ]
  },
  {
   "cell_type": "code",
   "execution_count": 27,
   "metadata": {},
   "outputs": [
    {
     "name": "stdout",
     "output_type": "stream",
     "text": [
      "(19, 7)\n"
     ]
    }
   ],
   "source": [
    "sol = A.solve_right(b)\n",
    "print(sol)"
   ]
  },
  {
   "cell_type": "code",
   "execution_count": 7,
   "metadata": {},
   "outputs": [
    {
     "name": "stdout",
     "output_type": "stream",
     "text": [
      "<?xml version=\"1.0\" encoding=\"UTF-8\"?>\n",
      "<Exam>\n",
      "    <Title> Cryptography </Title>\n",
      "    <Questions>\n",
      "        <Question1> About RSA vulnerabilites </Question1>\n",
      "        <Question2> Provable security of OTP </Question2>\n",
      "        <Question3> DLP based cryptosystems  </Question3>\n",
      "        <Question4> More ? </Question4>\n",
      "    </Questions>\n",
      "</Exam>\n",
      "\n"
     ]
    }
   ],
   "source": [
    "# some helper functions for you to decrypt the content\n",
    "\n",
    "str_encrypted_content = 'X4pYF J{[nj\"lk;Ae.; {lU\"hjlDk;bO\\\\Ri;4!\\nXIp/Y!\\n    XOj$F{! #[&5$\"D[/5W& XxOj$F{!\\n    Xs7{n$j\"ln!\\n        Xs7{n$j\"lA! ZB\"7$ )<Z J7Fl{[/BjFj${n Xxs7{n$j\"lA!\\n        Xs7{n$j\"lT! `[\"J/BF{ n{U7[j$& \"1 MO` Xxs7{n$j\"lT!\\n        Xs7{n$j\"lg! 6q` B/n{h U[&5$\"n&n${Yn  Xxs7{n$j\"lg!\\n        Xs7{n$j\"lz! \\'\"[{ 4 Xxs7{n$j\"lz!\\n    Xxs7{n$j\"ln!\\nXxIp/Y!\\n'\n",
    "\n",
    "# Decrypt the content\n",
    "sk = (19,7) # find the correct one\n",
    "decrypted_content = decrypt(str_encrypted_content, sk)\n",
    "print(decrypted_content)"
   ]
  },
  {
   "cell_type": "code",
   "execution_count": null,
   "metadata": {},
   "outputs": [],
   "source": []
  }
 ],
 "metadata": {
  "kernelspec": {
   "display_name": "SageMath 10.5",
   "language": "sage",
   "name": "SageMath-10.5"
  },
  "language_info": {
   "codemirror_mode": {
    "name": "ipython",
    "version": 3
   },
   "file_extension": ".py",
   "mimetype": "text/x-python",
   "name": "sage",
   "nbconvert_exporter": "python",
   "pygments_lexer": "ipython3",
   "version": "3.12.5"
  }
 },
 "nbformat": 4,
 "nbformat_minor": 2
}
