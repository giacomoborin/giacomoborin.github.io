{
 "cells": [
  {
   "cell_type": "markdown",
   "id": "0dd86e79-4f74-4951-b11c-5da2edd45bd1",
   "metadata": {},
   "source": [
    "# MAT005 - Coding Theory, FS 24, Sheet 6\n",
    "*Lecturer:* Prof. Dr.  Joachim Rosenthal; *TA:* Giacomo Borin."
   ]
  },
  {
   "cell_type": "markdown",
   "id": "6a10f16d-1de3-40c1-a241-e9e71476d8df",
   "metadata": {},
   "source": [
    "## Ex 04: Golay codes\n",
    "Consider the $[23,12,7]$ binary golay code $G_{23}$ with systematic generator matrix $\\mathbf{G} = \\left( \\mathbf I_{12} \\mid \\mathbf A \\right)$ for\n",
    "$$\n",
    "\t\\mathbf{A} =\n",
    "    \\left(\\begin{array}{rrrrrrrrrrr}\n",
    "\t1 & 0 & 1 & 0 & 1 & 1 & 1 & 0 & 0 & 0 & 1 \\\\\n",
    "\t1 & 1 & 1 & 1 & 1 & 0 & 0 & 1 & 0 & 0 & 1 \\\\\n",
    "\t1 & 1 & 0 & 1 & 0 & 0 & 1 & 0 & 1 & 0 & 1 \\\\\n",
    "\t1 & 1 & 0 & 0 & 0 & 1 & 1 & 1 & 0 & 1 & 1 \\\\\n",
    "\t1 & 1 & 0 & 0 & 1 & 1 & 0 & 1 & 1 & 0 & 0 \\\\\n",
    "\t0 & 1 & 1 & 0 & 0 & 1 & 1 & 0 & 1 & 1 & 0 \\\\\n",
    "\t0 & 0 & 1 & 1 & 0 & 0 & 1 & 1 & 0 & 1 & 1 \\\\\n",
    "\t1 & 0 & 1 & 1 & 0 & 1 & 1 & 1 & 1 & 0 & 0 \\\\\n",
    "\t0 & 1 & 0 & 1 & 1 & 0 & 1 & 1 & 1 & 1 & 0 \\\\\n",
    "\t0 & 0 & 1 & 0 & 1 & 1 & 0 & 1 & 1 & 1 & 1 \\\\\n",
    "\t1 & 0 & 1 & 1 & 1 & 0 & 0 & 0 & 1 & 1 & 0 \\\\\n",
    "\t0 & 1 & 0 & 1 & 1 & 1 & 0 & 0 & 0 & 1 & 1\n",
    "    \\end{array}\\right)\n",
    "$$\n",
    "\n",
    "Decode the following received vectors:\n",
    "$$ % key = 1997\n",
    "\\mathbf{r}_0 = \\left(1,\\,0,\\,1,\\,1,\\,1,\\,1,\\,0,\\,1,\\,1,\\,0,\\,1,\\,1,\\,0,\\,1,\\,0,\\,1,\\,1,\\,0,\\,1,\\,1,\\,0,\\,1,\\,0\\right) \\ ;\n",
    "   % err = {18, 19, 13}, codeword = (1, 0, 1, 1, 1, 1, 0, 1, 1, 0, 1, 1, 0, 0, 0, 1, 1, 0, 0, 0, 0, 1, 0)\n",
    "$$\n",
    "$$ % key = 1861\n",
    "\\mathbf{r}_1 = \\left(0,\\,0,\\,1,\\,0,\\,1,\\,0,\\,1,\\,1,\\,0,\\,0,\\,1,\\,0,\\,0,\\,0,\\,0,\\,0,\\,0,\\,0,\\,0,\\,1,\\,0,\\,1,\\,1\\right) \\ ;\n",
    "%  err = {19, 6, 15} codeword = (0, 0, 1, 0, 1, 0, 0, 1, 0, 0, 1, 0, 0, 0, 0, 1, 0, 0, 0, 0, 0, 1, 1)\n",
    "$$\n",
    "$$ % key = 1\n",
    "\\mathbf{r}_2 = \\left(1,\\,0,\\,1,\\,0,\\,1,\\,0,\\,1,\\,0,\\,0,\\,1,\\,1,\\,1,\\,0,\\,0,\\,0,\\,1,\\,1,\\,1,\\,0,\\,1,\\,1,\\,1,\\,0\\right) \\ .\n",
    "%  err = {0, 10, 13} codeword = (0, 0, 1, 0, 1, 0, 1, 0, 0, 1, 0, 1, 0, 1, 0, 1, 1, 1, 0, 1, 1, 1, 0)\n",
    "$$\n",
    "\n",
    "You can decode with \\textbf{any} method you want, look anywhere you like for the one that fits you better, but you have to insert a reference and briefly describe the procedure you perform.\n"
   ]
  },
  {
   "cell_type": "code",
   "execution_count": 6,
   "id": "d7919a4c-7610-41f4-9a73-669f2e1007ae",
   "metadata": {},
   "outputs": [
    {
     "data": {
      "text/plain": [
       "\u001b[0;31mInit signature:\u001b[0m \u001b[0mcodes\u001b[0m\u001b[0;34m.\u001b[0m\u001b[0mGolayCode\u001b[0m\u001b[0;34m(\u001b[0m\u001b[0mbase_field\u001b[0m\u001b[0;34m,\u001b[0m \u001b[0mextended\u001b[0m\u001b[0;34m=\u001b[0m\u001b[0;32mTrue\u001b[0m\u001b[0;34m)\u001b[0m\u001b[0;34m\u001b[0m\u001b[0;34m\u001b[0m\u001b[0m\n",
       "\u001b[0;31mDocstring:\u001b[0m     \n",
       "   Representation of a Golay Code.\n",
       "\n",
       "   INPUT:\n",
       "\n",
       "   * \"base_field\" -- The base field over which the code is defined.\n",
       "     Can only be \"GF(2)\" or \"GF(3)\".\n",
       "\n",
       "   * \"extended\" -- (default: \"True\") if set to \"True\", creates an\n",
       "     extended Golay code.\n",
       "\n",
       "   EXAMPLES:\n",
       "\n",
       "      sage: codes.GolayCode(GF(2))\n",
       "      [24, 12, 8] Extended Golay code over GF(2)\n",
       "\n",
       "   Another example with the perfect binary Golay code:\n",
       "\n",
       "      sage: codes.GolayCode(GF(2), False)\n",
       "      [23, 12, 7]  Golay code over GF(2)\n",
       "\u001b[0;31mFile:\u001b[0m           /private/var/tmp/sage-10.2-current/local/var/lib/sage/venv-python3.11.1/lib/python3.11/site-packages/sage/coding/golay_code.py\n",
       "\u001b[0;31mType:\u001b[0m           type\n",
       "\u001b[0;31mSubclasses:\u001b[0m     GolayCode_with_category\n"
      ]
     },
     "metadata": {},
     "output_type": "display_data"
    }
   ],
   "source": [
    "codes.GolayCode?"
   ]
  },
  {
   "cell_type": "code",
   "execution_count": 8,
   "id": "b513c24b-a2a6-4780-bfcb-73fec54b9cac",
   "metadata": {},
   "outputs": [
    {
     "data": {
      "text/plain": [
       "[23, 12, 7]  Golay code over GF(2)"
      ]
     },
     "execution_count": 8,
     "metadata": {},
     "output_type": "execute_result"
    }
   ],
   "source": [
    "F = GF(2)\n",
    "C = codes.GolayCode(base_field = F,extended = False)\n",
    "n = C.length()\n",
    "k = C.dimension()\n",
    "C"
   ]
  },
  {
   "cell_type": "code",
   "execution_count": 2,
   "id": "321c8f66-d86f-4102-a7c3-1564c387921e",
   "metadata": {},
   "outputs": [
    {
     "data": {
      "text/html": [
       "<html>\\(\\displaystyle \\left(\\begin{array}{rrrrrrrrrrrrrrrrrrrrrrr}\n",
       "1 & 0 & 0 & 0 & 0 & 0 & 0 & 0 & 0 & 0 & 0 & 0 & 1 & 0 & 1 & 0 & 1 & 1 & 1 & 0 & 0 & 0 & 1 \\\\\n",
       "0 & 1 & 0 & 0 & 0 & 0 & 0 & 0 & 0 & 0 & 0 & 0 & 1 & 1 & 1 & 1 & 1 & 0 & 0 & 1 & 0 & 0 & 1 \\\\\n",
       "0 & 0 & 1 & 0 & 0 & 0 & 0 & 0 & 0 & 0 & 0 & 0 & 1 & 1 & 0 & 1 & 0 & 0 & 1 & 0 & 1 & 0 & 1 \\\\\n",
       "0 & 0 & 0 & 1 & 0 & 0 & 0 & 0 & 0 & 0 & 0 & 0 & 1 & 1 & 0 & 0 & 0 & 1 & 1 & 1 & 0 & 1 & 1 \\\\\n",
       "0 & 0 & 0 & 0 & 1 & 0 & 0 & 0 & 0 & 0 & 0 & 0 & 1 & 1 & 0 & 0 & 1 & 1 & 0 & 1 & 1 & 0 & 0 \\\\\n",
       "0 & 0 & 0 & 0 & 0 & 1 & 0 & 0 & 0 & 0 & 0 & 0 & 0 & 1 & 1 & 0 & 0 & 1 & 1 & 0 & 1 & 1 & 0 \\\\\n",
       "0 & 0 & 0 & 0 & 0 & 0 & 1 & 0 & 0 & 0 & 0 & 0 & 0 & 0 & 1 & 1 & 0 & 0 & 1 & 1 & 0 & 1 & 1 \\\\\n",
       "0 & 0 & 0 & 0 & 0 & 0 & 0 & 1 & 0 & 0 & 0 & 0 & 1 & 0 & 1 & 1 & 0 & 1 & 1 & 1 & 1 & 0 & 0 \\\\\n",
       "0 & 0 & 0 & 0 & 0 & 0 & 0 & 0 & 1 & 0 & 0 & 0 & 0 & 1 & 0 & 1 & 1 & 0 & 1 & 1 & 1 & 1 & 0 \\\\\n",
       "0 & 0 & 0 & 0 & 0 & 0 & 0 & 0 & 0 & 1 & 0 & 0 & 0 & 0 & 1 & 0 & 1 & 1 & 0 & 1 & 1 & 1 & 1 \\\\\n",
       "0 & 0 & 0 & 0 & 0 & 0 & 0 & 0 & 0 & 0 & 1 & 0 & 1 & 0 & 1 & 1 & 1 & 0 & 0 & 0 & 1 & 1 & 0 \\\\\n",
       "0 & 0 & 0 & 0 & 0 & 0 & 0 & 0 & 0 & 0 & 0 & 1 & 0 & 1 & 0 & 1 & 1 & 1 & 0 & 0 & 0 & 1 & 1\n",
       "\\end{array}\\right)\\)</html>"
      ],
      "text/latex": [
       "$\\displaystyle \\left(\\begin{array}{rrrrrrrrrrrrrrrrrrrrrrr}\n",
       "1 & 0 & 0 & 0 & 0 & 0 & 0 & 0 & 0 & 0 & 0 & 0 & 1 & 0 & 1 & 0 & 1 & 1 & 1 & 0 & 0 & 0 & 1 \\\\\n",
       "0 & 1 & 0 & 0 & 0 & 0 & 0 & 0 & 0 & 0 & 0 & 0 & 1 & 1 & 1 & 1 & 1 & 0 & 0 & 1 & 0 & 0 & 1 \\\\\n",
       "0 & 0 & 1 & 0 & 0 & 0 & 0 & 0 & 0 & 0 & 0 & 0 & 1 & 1 & 0 & 1 & 0 & 0 & 1 & 0 & 1 & 0 & 1 \\\\\n",
       "0 & 0 & 0 & 1 & 0 & 0 & 0 & 0 & 0 & 0 & 0 & 0 & 1 & 1 & 0 & 0 & 0 & 1 & 1 & 1 & 0 & 1 & 1 \\\\\n",
       "0 & 0 & 0 & 0 & 1 & 0 & 0 & 0 & 0 & 0 & 0 & 0 & 1 & 1 & 0 & 0 & 1 & 1 & 0 & 1 & 1 & 0 & 0 \\\\\n",
       "0 & 0 & 0 & 0 & 0 & 1 & 0 & 0 & 0 & 0 & 0 & 0 & 0 & 1 & 1 & 0 & 0 & 1 & 1 & 0 & 1 & 1 & 0 \\\\\n",
       "0 & 0 & 0 & 0 & 0 & 0 & 1 & 0 & 0 & 0 & 0 & 0 & 0 & 0 & 1 & 1 & 0 & 0 & 1 & 1 & 0 & 1 & 1 \\\\\n",
       "0 & 0 & 0 & 0 & 0 & 0 & 0 & 1 & 0 & 0 & 0 & 0 & 1 & 0 & 1 & 1 & 0 & 1 & 1 & 1 & 1 & 0 & 0 \\\\\n",
       "0 & 0 & 0 & 0 & 0 & 0 & 0 & 0 & 1 & 0 & 0 & 0 & 0 & 1 & 0 & 1 & 1 & 0 & 1 & 1 & 1 & 1 & 0 \\\\\n",
       "0 & 0 & 0 & 0 & 0 & 0 & 0 & 0 & 0 & 1 & 0 & 0 & 0 & 0 & 1 & 0 & 1 & 1 & 0 & 1 & 1 & 1 & 1 \\\\\n",
       "0 & 0 & 0 & 0 & 0 & 0 & 0 & 0 & 0 & 0 & 1 & 0 & 1 & 0 & 1 & 1 & 1 & 0 & 0 & 0 & 1 & 1 & 0 \\\\\n",
       "0 & 0 & 0 & 0 & 0 & 0 & 0 & 0 & 0 & 0 & 0 & 1 & 0 & 1 & 0 & 1 & 1 & 1 & 0 & 0 & 0 & 1 & 1\n",
       "\\end{array}\\right)$"
      ],
      "text/plain": [
       "[1 0 0 0 0 0 0 0 0 0 0 0 1 0 1 0 1 1 1 0 0 0 1]\n",
       "[0 1 0 0 0 0 0 0 0 0 0 0 1 1 1 1 1 0 0 1 0 0 1]\n",
       "[0 0 1 0 0 0 0 0 0 0 0 0 1 1 0 1 0 0 1 0 1 0 1]\n",
       "[0 0 0 1 0 0 0 0 0 0 0 0 1 1 0 0 0 1 1 1 0 1 1]\n",
       "[0 0 0 0 1 0 0 0 0 0 0 0 1 1 0 0 1 1 0 1 1 0 0]\n",
       "[0 0 0 0 0 1 0 0 0 0 0 0 0 1 1 0 0 1 1 0 1 1 0]\n",
       "[0 0 0 0 0 0 1 0 0 0 0 0 0 0 1 1 0 0 1 1 0 1 1]\n",
       "[0 0 0 0 0 0 0 1 0 0 0 0 1 0 1 1 0 1 1 1 1 0 0]\n",
       "[0 0 0 0 0 0 0 0 1 0 0 0 0 1 0 1 1 0 1 1 1 1 0]\n",
       "[0 0 0 0 0 0 0 0 0 1 0 0 0 0 1 0 1 1 0 1 1 1 1]\n",
       "[0 0 0 0 0 0 0 0 0 0 1 0 1 0 1 1 1 0 0 0 1 1 0]\n",
       "[0 0 0 0 0 0 0 0 0 0 0 1 0 1 0 1 1 1 0 0 0 1 1]"
      ]
     },
     "metadata": {},
     "output_type": "display_data"
    }
   ],
   "source": [
    "show(C.systematic_generator_matrix())"
   ]
  },
  {
   "cell_type": "markdown",
   "id": "846c9227-2d43-4ea0-a2cd-2626973f3654",
   "metadata": {},
   "source": [
    "#### Question:\n",
    "Do something change if we consider another generator matrix? What can you deduce from the following:"
   ]
  },
  {
   "cell_type": "code",
   "execution_count": 46,
   "id": "b30d4528-c796-4221-858c-619645a13d14",
   "metadata": {},
   "outputs": [
    {
     "data": {
      "text/html": [
       "<html>\\(\\displaystyle \\left(\\begin{array}{rrrrrrrrrrrrrrrrrrrrrrr}\n",
       "1 & 0 & 1 & 0 & 1 & 1 & 1 & 0 & 0 & 0 & 1 & 1 & 0 & 0 & 0 & 0 & 0 & 0 & 0 & 0 & 0 & 0 & 0 \\\\\n",
       "0 & 1 & 0 & 1 & 0 & 1 & 1 & 1 & 0 & 0 & 0 & 1 & 1 & 0 & 0 & 0 & 0 & 0 & 0 & 0 & 0 & 0 & 0 \\\\\n",
       "0 & 0 & 1 & 0 & 1 & 0 & 1 & 1 & 1 & 0 & 0 & 0 & 1 & 1 & 0 & 0 & 0 & 0 & 0 & 0 & 0 & 0 & 0 \\\\\n",
       "0 & 0 & 0 & 1 & 0 & 1 & 0 & 1 & 1 & 1 & 0 & 0 & 0 & 1 & 1 & 0 & 0 & 0 & 0 & 0 & 0 & 0 & 0 \\\\\n",
       "0 & 0 & 0 & 0 & 1 & 0 & 1 & 0 & 1 & 1 & 1 & 0 & 0 & 0 & 1 & 1 & 0 & 0 & 0 & 0 & 0 & 0 & 0 \\\\\n",
       "0 & 0 & 0 & 0 & 0 & 1 & 0 & 1 & 0 & 1 & 1 & 1 & 0 & 0 & 0 & 1 & 1 & 0 & 0 & 0 & 0 & 0 & 0 \\\\\n",
       "0 & 0 & 0 & 0 & 0 & 0 & 1 & 0 & 1 & 0 & 1 & 1 & 1 & 0 & 0 & 0 & 1 & 1 & 0 & 0 & 0 & 0 & 0 \\\\\n",
       "0 & 0 & 0 & 0 & 0 & 0 & 0 & 1 & 0 & 1 & 0 & 1 & 1 & 1 & 0 & 0 & 0 & 1 & 1 & 0 & 0 & 0 & 0 \\\\\n",
       "0 & 0 & 0 & 0 & 0 & 0 & 0 & 0 & 1 & 0 & 1 & 0 & 1 & 1 & 1 & 0 & 0 & 0 & 1 & 1 & 0 & 0 & 0 \\\\\n",
       "0 & 0 & 0 & 0 & 0 & 0 & 0 & 0 & 0 & 1 & 0 & 1 & 0 & 1 & 1 & 1 & 0 & 0 & 0 & 1 & 1 & 0 & 0 \\\\\n",
       "0 & 0 & 0 & 0 & 0 & 0 & 0 & 0 & 0 & 0 & 1 & 0 & 1 & 0 & 1 & 1 & 1 & 0 & 0 & 0 & 1 & 1 & 0 \\\\\n",
       "0 & 0 & 0 & 0 & 0 & 0 & 0 & 0 & 0 & 0 & 0 & 1 & 0 & 1 & 0 & 1 & 1 & 1 & 0 & 0 & 0 & 1 & 1\n",
       "\\end{array}\\right)\\)</html>"
      ],
      "text/latex": [
       "$\\displaystyle \\left(\\begin{array}{rrrrrrrrrrrrrrrrrrrrrrr}\n",
       "1 & 0 & 1 & 0 & 1 & 1 & 1 & 0 & 0 & 0 & 1 & 1 & 0 & 0 & 0 & 0 & 0 & 0 & 0 & 0 & 0 & 0 & 0 \\\\\n",
       "0 & 1 & 0 & 1 & 0 & 1 & 1 & 1 & 0 & 0 & 0 & 1 & 1 & 0 & 0 & 0 & 0 & 0 & 0 & 0 & 0 & 0 & 0 \\\\\n",
       "0 & 0 & 1 & 0 & 1 & 0 & 1 & 1 & 1 & 0 & 0 & 0 & 1 & 1 & 0 & 0 & 0 & 0 & 0 & 0 & 0 & 0 & 0 \\\\\n",
       "0 & 0 & 0 & 1 & 0 & 1 & 0 & 1 & 1 & 1 & 0 & 0 & 0 & 1 & 1 & 0 & 0 & 0 & 0 & 0 & 0 & 0 & 0 \\\\\n",
       "0 & 0 & 0 & 0 & 1 & 0 & 1 & 0 & 1 & 1 & 1 & 0 & 0 & 0 & 1 & 1 & 0 & 0 & 0 & 0 & 0 & 0 & 0 \\\\\n",
       "0 & 0 & 0 & 0 & 0 & 1 & 0 & 1 & 0 & 1 & 1 & 1 & 0 & 0 & 0 & 1 & 1 & 0 & 0 & 0 & 0 & 0 & 0 \\\\\n",
       "0 & 0 & 0 & 0 & 0 & 0 & 1 & 0 & 1 & 0 & 1 & 1 & 1 & 0 & 0 & 0 & 1 & 1 & 0 & 0 & 0 & 0 & 0 \\\\\n",
       "0 & 0 & 0 & 0 & 0 & 0 & 0 & 1 & 0 & 1 & 0 & 1 & 1 & 1 & 0 & 0 & 0 & 1 & 1 & 0 & 0 & 0 & 0 \\\\\n",
       "0 & 0 & 0 & 0 & 0 & 0 & 0 & 0 & 1 & 0 & 1 & 0 & 1 & 1 & 1 & 0 & 0 & 0 & 1 & 1 & 0 & 0 & 0 \\\\\n",
       "0 & 0 & 0 & 0 & 0 & 0 & 0 & 0 & 0 & 1 & 0 & 1 & 0 & 1 & 1 & 1 & 0 & 0 & 0 & 1 & 1 & 0 & 0 \\\\\n",
       "0 & 0 & 0 & 0 & 0 & 0 & 0 & 0 & 0 & 0 & 1 & 0 & 1 & 0 & 1 & 1 & 1 & 0 & 0 & 0 & 1 & 1 & 0 \\\\\n",
       "0 & 0 & 0 & 0 & 0 & 0 & 0 & 0 & 0 & 0 & 0 & 1 & 0 & 1 & 0 & 1 & 1 & 1 & 0 & 0 & 0 & 1 & 1\n",
       "\\end{array}\\right)$"
      ],
      "text/plain": [
       "[1 0 1 0 1 1 1 0 0 0 1 1 0 0 0 0 0 0 0 0 0 0 0]\n",
       "[0 1 0 1 0 1 1 1 0 0 0 1 1 0 0 0 0 0 0 0 0 0 0]\n",
       "[0 0 1 0 1 0 1 1 1 0 0 0 1 1 0 0 0 0 0 0 0 0 0]\n",
       "[0 0 0 1 0 1 0 1 1 1 0 0 0 1 1 0 0 0 0 0 0 0 0]\n",
       "[0 0 0 0 1 0 1 0 1 1 1 0 0 0 1 1 0 0 0 0 0 0 0]\n",
       "[0 0 0 0 0 1 0 1 0 1 1 1 0 0 0 1 1 0 0 0 0 0 0]\n",
       "[0 0 0 0 0 0 1 0 1 0 1 1 1 0 0 0 1 1 0 0 0 0 0]\n",
       "[0 0 0 0 0 0 0 1 0 1 0 1 1 1 0 0 0 1 1 0 0 0 0]\n",
       "[0 0 0 0 0 0 0 0 1 0 1 0 1 1 1 0 0 0 1 1 0 0 0]\n",
       "[0 0 0 0 0 0 0 0 0 1 0 1 0 1 1 1 0 0 0 1 1 0 0]\n",
       "[0 0 0 0 0 0 0 0 0 0 1 0 1 0 1 1 1 0 0 0 1 1 0]\n",
       "[0 0 0 0 0 0 0 0 0 0 0 1 0 1 0 1 1 1 0 0 0 1 1]"
      ]
     },
     "metadata": {},
     "output_type": "display_data"
    }
   ],
   "source": [
    "show(C.generator_matrix())"
   ]
  },
  {
   "cell_type": "markdown",
   "id": "ed11d6ca-c496-433e-bc83-46b61b52881b",
   "metadata": {},
   "source": [
    "We can proceed in the generation of the three examples of the exercise:"
   ]
  },
  {
   "cell_type": "code",
   "execution_count": 21,
   "id": "1a45cc26-b5bb-4583-8bb5-85c1a26dc7c6",
   "metadata": {},
   "outputs": [
    {
     "data": {
      "text/html": [
       "<html>\\(\\displaystyle \\left(1,\\,0,\\,1,\\,1,\\,0,\\,0,\\,0,\\,1,\\,1,\\,0,\\,1,\\,0,\\,1,\\,1,\\,1,\\,0,\\,1,\\,1,\\,1,\\,1,\\,0,\\,1,\\,1\\right)\\)</html>"
      ],
      "text/latex": [
       "$\\displaystyle \\left(1,\\,0,\\,1,\\,1,\\,0,\\,0,\\,0,\\,1,\\,1,\\,0,\\,1,\\,0,\\,1,\\,1,\\,1,\\,0,\\,1,\\,1,\\,1,\\,1,\\,0,\\,1,\\,1\\right)$"
      ],
      "text/plain": [
       "(1, 0, 1, 1, 0, 0, 0, 1, 1, 0, 1, 0, 1, 1, 1, 0, 1, 1, 1, 1, 0, 1, 1)"
      ]
     },
     "metadata": {},
     "output_type": "display_data"
    },
    {
     "data": {
      "text/html": [
       "<html>\\(\\displaystyle \\left(1,\\,0,\\,0,\\,1,\\,0,\\,0,\\,0,\\,1,\\,1,\\,0,\\,1,\\,0,\\,1,\\,1,\\,1,\\,0,\\,1,\\,1,\\,1,\\,1,\\,0,\\,1,\\,1\\right)\\)</html>"
      ],
      "text/latex": [
       "$\\displaystyle \\left(1,\\,0,\\,0,\\,1,\\,0,\\,0,\\,0,\\,1,\\,1,\\,0,\\,1,\\,0,\\,1,\\,1,\\,1,\\,0,\\,1,\\,1,\\,1,\\,1,\\,0,\\,1,\\,1\\right)$"
      ],
      "text/plain": [
       "(1, 0, 0, 1, 0, 0, 0, 1, 1, 0, 1, 0, 1, 1, 1, 0, 1, 1, 1, 1, 0, 1, 1)"
      ]
     },
     "metadata": {},
     "output_type": "display_data"
    },
    {
     "data": {
      "text/html": [
       "<html>\\(\\displaystyle \\left(0,\\,0,\\,1,\\,0,\\,0,\\,0,\\,0,\\,0,\\,0,\\,0,\\,0\\right)\\)</html>"
      ],
      "text/latex": [
       "$\\displaystyle \\left(0,\\,0,\\,1,\\,0,\\,0,\\,0,\\,0,\\,0,\\,0,\\,0,\\,0\\right)$"
      ],
      "text/plain": [
       "(0, 0, 1, 0, 0, 0, 0, 0, 0, 0, 0)"
      ]
     },
     "metadata": {},
     "output_type": "display_data"
    }
   ],
   "source": [
    "y = C.random_element(); show(y)\n",
    "z = copy(y)\n",
    "z[2] += 1; show(z)\n",
    "show(C.syndrome(z))"
   ]
  },
  {
   "cell_type": "code",
   "execution_count": 168,
   "id": "892ed795-b6ab-4f0b-a04d-9df55201b59b",
   "metadata": {},
   "outputs": [
    {
     "data": {
      "text/html": [
       "<html>\\(\\displaystyle \\mathbf{c}_0 = \\left(1,\\,0,\\,1,\\,1,\\,1,\\,1,\\,0,\\,1,\\,1,\\,0,\\,1,\\,1,\\,0,\\,0,\\,0,\\,1,\\,1,\\,0,\\,0,\\,0,\\,0,\\,1,\\,0\\right)\\)</html>"
      ],
      "text/latex": [
       "$\\displaystyle \\mathbf{c}_0 = \\left(1,\\,0,\\,1,\\,1,\\,1,\\,1,\\,0,\\,1,\\,1,\\,0,\\,1,\\,1,\\,0,\\,0,\\,0,\\,1,\\,1,\\,0,\\,0,\\,0,\\,0,\\,1,\\,0\\right)$"
      ],
      "text/plain": [
       "\\mathbf{c}_0 = \\left(1,\\,0,\\,1,\\,1,\\,1,\\,1,\\,0,\\,1,\\,1,\\,0,\\,1,\\,1,\\,0,\\,0,\\,0,\\,1,\\,1,\\,0,\\,0,\\,0,\\,0,\\,1,\\,0\\right)"
      ]
     },
     "metadata": {},
     "output_type": "display_data"
    },
    {
     "data": {
      "text/html": [
       "<html>\\(\\displaystyle \\mathbf{e}_0 = \\verb|{18,|\\verb| |\\verb|19,|\\verb| |\\verb|13}|\\)</html>"
      ],
      "text/latex": [
       "$\\displaystyle \\mathbf{e}_0 = \\verb|{18,|\\verb| |\\verb|19,|\\verb| |\\verb|13}|$"
      ],
      "text/plain": [
       "\\mathbf{e}_0 = \\text{\\texttt{{\\char`\\{}18,{ }19,{ }13{\\char`\\}}}}"
      ]
     },
     "metadata": {},
     "output_type": "display_data"
    },
    {
     "data": {
      "text/html": [
       "<html>\\(\\displaystyle \\mathbf{r}_0 = \\left(1,\\,0,\\,1,\\,1,\\,1,\\,1,\\,0,\\,1,\\,1,\\,0,\\,1,\\,1,\\,0,\\,1,\\,0,\\,1,\\,1,\\,0,\\,1,\\,1,\\,0,\\,1,\\,0\\right)\\)</html>"
      ],
      "text/latex": [
       "$\\displaystyle \\mathbf{r}_0 = \\left(1,\\,0,\\,1,\\,1,\\,1,\\,1,\\,0,\\,1,\\,1,\\,0,\\,1,\\,1,\\,0,\\,1,\\,0,\\,1,\\,1,\\,0,\\,1,\\,1,\\,0,\\,1,\\,0\\right)$"
      ],
      "text/plain": [
       "\\mathbf{r}_0 = \\left(1,\\,0,\\,1,\\,1,\\,1,\\,1,\\,0,\\,1,\\,1,\\,0,\\,1,\\,1,\\,0,\\,1,\\,0,\\,1,\\,1,\\,0,\\,1,\\,1,\\,0,\\,1,\\,0\\right)"
      ]
     },
     "metadata": {},
     "output_type": "display_data"
    },
    {
     "name": "stdout",
     "output_type": "stream",
     "text": [
      "\n"
     ]
    },
    {
     "data": {
      "text/html": [
       "<html>\\(\\displaystyle \\mathbf{c}_1 = \\left(0,\\,0,\\,1,\\,0,\\,1,\\,0,\\,0,\\,1,\\,0,\\,0,\\,1,\\,0,\\,0,\\,0,\\,0,\\,1,\\,0,\\,0,\\,0,\\,0,\\,0,\\,1,\\,1\\right)\\)</html>"
      ],
      "text/latex": [
       "$\\displaystyle \\mathbf{c}_1 = \\left(0,\\,0,\\,1,\\,0,\\,1,\\,0,\\,0,\\,1,\\,0,\\,0,\\,1,\\,0,\\,0,\\,0,\\,0,\\,1,\\,0,\\,0,\\,0,\\,0,\\,0,\\,1,\\,1\\right)$"
      ],
      "text/plain": [
       "\\mathbf{c}_1 = \\left(0,\\,0,\\,1,\\,0,\\,1,\\,0,\\,0,\\,1,\\,0,\\,0,\\,1,\\,0,\\,0,\\,0,\\,0,\\,1,\\,0,\\,0,\\,0,\\,0,\\,0,\\,1,\\,1\\right)"
      ]
     },
     "metadata": {},
     "output_type": "display_data"
    },
    {
     "data": {
      "text/html": [
       "<html>\\(\\displaystyle \\mathbf{e}_1 = \\verb|{19,|\\verb| |\\verb|6,|\\verb| |\\verb|15}|\\)</html>"
      ],
      "text/latex": [
       "$\\displaystyle \\mathbf{e}_1 = \\verb|{19,|\\verb| |\\verb|6,|\\verb| |\\verb|15}|$"
      ],
      "text/plain": [
       "\\mathbf{e}_1 = \\text{\\texttt{{\\char`\\{}19,{ }6,{ }15{\\char`\\}}}}"
      ]
     },
     "metadata": {},
     "output_type": "display_data"
    },
    {
     "data": {
      "text/html": [
       "<html>\\(\\displaystyle \\mathbf{r}_1 = \\left(0,\\,0,\\,1,\\,0,\\,1,\\,0,\\,1,\\,1,\\,0,\\,0,\\,1,\\,0,\\,0,\\,0,\\,0,\\,0,\\,0,\\,0,\\,0,\\,1,\\,0,\\,1,\\,1\\right)\\)</html>"
      ],
      "text/latex": [
       "$\\displaystyle \\mathbf{r}_1 = \\left(0,\\,0,\\,1,\\,0,\\,1,\\,0,\\,1,\\,1,\\,0,\\,0,\\,1,\\,0,\\,0,\\,0,\\,0,\\,0,\\,0,\\,0,\\,0,\\,1,\\,0,\\,1,\\,1\\right)$"
      ],
      "text/plain": [
       "\\mathbf{r}_1 = \\left(0,\\,0,\\,1,\\,0,\\,1,\\,0,\\,1,\\,1,\\,0,\\,0,\\,1,\\,0,\\,0,\\,0,\\,0,\\,0,\\,0,\\,0,\\,0,\\,1,\\,0,\\,1,\\,1\\right)"
      ]
     },
     "metadata": {},
     "output_type": "display_data"
    },
    {
     "name": "stdout",
     "output_type": "stream",
     "text": [
      "\n"
     ]
    },
    {
     "data": {
      "text/html": [
       "<html>\\(\\displaystyle \\mathbf{c}_2 = \\left(0,\\,0,\\,1,\\,0,\\,1,\\,0,\\,1,\\,0,\\,0,\\,1,\\,0,\\,1,\\,0,\\,1,\\,0,\\,1,\\,1,\\,1,\\,0,\\,1,\\,1,\\,1,\\,0\\right)\\)</html>"
      ],
      "text/latex": [
       "$\\displaystyle \\mathbf{c}_2 = \\left(0,\\,0,\\,1,\\,0,\\,1,\\,0,\\,1,\\,0,\\,0,\\,1,\\,0,\\,1,\\,0,\\,1,\\,0,\\,1,\\,1,\\,1,\\,0,\\,1,\\,1,\\,1,\\,0\\right)$"
      ],
      "text/plain": [
       "\\mathbf{c}_2 = \\left(0,\\,0,\\,1,\\,0,\\,1,\\,0,\\,1,\\,0,\\,0,\\,1,\\,0,\\,1,\\,0,\\,1,\\,0,\\,1,\\,1,\\,1,\\,0,\\,1,\\,1,\\,1,\\,0\\right)"
      ]
     },
     "metadata": {},
     "output_type": "display_data"
    },
    {
     "data": {
      "text/html": [
       "<html>\\(\\displaystyle \\mathbf{e}_2 = \\verb|{0,|\\verb| |\\verb|10,|\\verb| |\\verb|13}|\\)</html>"
      ],
      "text/latex": [
       "$\\displaystyle \\mathbf{e}_2 = \\verb|{0,|\\verb| |\\verb|10,|\\verb| |\\verb|13}|$"
      ],
      "text/plain": [
       "\\mathbf{e}_2 = \\text{\\texttt{{\\char`\\{}0,{ }10,{ }13{\\char`\\}}}}"
      ]
     },
     "metadata": {},
     "output_type": "display_data"
    },
    {
     "data": {
      "text/html": [
       "<html>\\(\\displaystyle \\mathbf{r}_2 = \\left(1,\\,0,\\,1,\\,0,\\,1,\\,0,\\,1,\\,0,\\,0,\\,1,\\,1,\\,1,\\,0,\\,0,\\,0,\\,1,\\,1,\\,1,\\,0,\\,1,\\,1,\\,1,\\,0\\right)\\)</html>"
      ],
      "text/latex": [
       "$\\displaystyle \\mathbf{r}_2 = \\left(1,\\,0,\\,1,\\,0,\\,1,\\,0,\\,1,\\,0,\\,0,\\,1,\\,1,\\,1,\\,0,\\,0,\\,0,\\,1,\\,1,\\,1,\\,0,\\,1,\\,1,\\,1,\\,0\\right)$"
      ],
      "text/plain": [
       "\\mathbf{r}_2 = \\left(1,\\,0,\\,1,\\,0,\\,1,\\,0,\\,1,\\,0,\\,0,\\,1,\\,1,\\,1,\\,0,\\,0,\\,0,\\,1,\\,1,\\,1,\\,0,\\,1,\\,1,\\,1,\\,0\\right)"
      ]
     },
     "metadata": {},
     "output_type": "display_data"
    },
    {
     "name": "stdout",
     "output_type": "stream",
     "text": [
      "\n"
     ]
    }
   ],
   "source": [
    "M = F**12\n",
    "D = F**23\n",
    "CODEWORDS = []\n",
    "ERRORS = []\n",
    "RECEIVED = []\n",
    "for (i,key) in enumerate([1997,1861,1]):\n",
    "    with seed(key): \n",
    "        m = M.random_element() # sample a random message\n",
    "        error_positions = [randint(0,22) for _ in range(3)]\n",
    "        error_positions = list(dict.fromkeys(error_positions)) # removal of duplicates\n",
    "        while len(error_positions) < 3:\n",
    "            error_positions.append(randint(0,22))\n",
    "            error_positions = list(dict.fromkeys(error_positions))\n",
    "        \n",
    "    codeword = C.encode(m)\n",
    "    CODEWORDS.append(codeword)\n",
    "    ERRORS.append(error_positions)\n",
    "    received = copy(codeword)\n",
    "    for idx in error_positions:\n",
    "        received[idx] += 1\n",
    "    RECEIVED.append(received)\n",
    "    show('\\mathbf{c}_'+ str(i)+' =' + latex(codeword))\n",
    "    show('\\mathbf{e}_'+ str(i)+' =' + latex(set(error_positions)))\n",
    "    show('\\mathbf{r}_'+ str(i)+' =' + latex(received))\n",
    "    # print('$$ % key = ' + str(key) + '\\n \\mathbf{r}_'+ str(i)+' =' + latex(received))\n",
    "    # print('$$ %  err = ' + str(set(error_positions)))\n",
    "    # print(' % codeword = ' + str(codeword))\n",
    "    print('')"
   ]
  },
  {
   "cell_type": "code",
   "execution_count": 169,
   "id": "518aacb9-4ae4-4f0c-8cc0-e5a70adf9bfe",
   "metadata": {},
   "outputs": [],
   "source": [
    "for key in range(10,500):\n",
    "    with seed(key): \n",
    "        m = M.random_element() # sample a random message\n",
    "        error_positions = [randint(0,22) for _ in range(3)]\n",
    "        error_positions = list(dict.fromkeys(error_positions)) # removal of duplicates\n",
    "        while len(error_positions) < 3:\n",
    "            error_positions.append(randint(0,22))\n",
    "            error_positions = list(dict.fromkeys(error_positions))\n",
    "        \n",
    "    codeword = C.encode(m)\n",
    "    CODEWORDS.append(codeword)\n",
    "    ERRORS.append(error_positions)\n",
    "    received = copy(codeword)\n",
    "    for idx in error_positions:\n",
    "        received[idx] += 1\n",
    "    RECEIVED.append(received)"
   ]
  },
  {
   "cell_type": "code",
   "execution_count": 171,
   "id": "a30401e4-b781-499b-9ce0-37be254c4f46",
   "metadata": {},
   "outputs": [
    {
     "data": {
      "text/plain": [
       "(1, 0, 1, 0, 1, 0, 1, 0, 0, 1, 1, 1, 0, 0, 0, 1, 1, 1, 0, 1, 1, 1, 0)"
      ]
     },
     "execution_count": 171,
     "metadata": {},
     "output_type": "execute_result"
    }
   ],
   "source": [
    "received = RECEIVED[2]\n",
    "received"
   ]
  },
  {
   "cell_type": "markdown",
   "id": "9864ece4-beac-414d-9799-3750965ad067",
   "metadata": {},
   "source": [
    "Let's focus on the last one, but still writing techniques that hopefully work in general. For simplicity we write here the Hamming distance function. "
   ]
  },
  {
   "cell_type": "code",
   "execution_count": 53,
   "id": "d77f0bcb-f85d-40b9-9fda-09727b8daf4a",
   "metadata": {},
   "outputs": [
    {
     "data": {
      "text/plain": [
       "1"
      ]
     },
     "execution_count": 53,
     "metadata": {},
     "output_type": "execute_result"
    }
   ],
   "source": [
    "def distH(x,y):\n",
    "    if not len(x) == len(y):\n",
    "        raise ValueError('Input vectors of different lenght')\n",
    "    else:\n",
    "        return sum([x[i] != y[i] for i in range(len(x))])\n",
    "\n",
    "distH(vector([0,1,1,8]),vector([0,1,2,8]))"
   ]
  },
  {
   "cell_type": "markdown",
   "id": "33ec8807-0612-4d4e-bfde-bdb337662126",
   "metadata": {},
   "source": [
    "#### Brute force\n",
    "This is the most easy and less efficient technique, we simply go through all the errors until we find the right one. It is important to note that it is only becaues the code is perfect that we can prove this procedure always terminates, with other codes this may output nothing."
   ]
  },
  {
   "cell_type": "code",
   "execution_count": 28,
   "id": "7016ea0a-5059-4b14-9818-049fd8abcda8",
   "metadata": {},
   "outputs": [],
   "source": [
    "def check_err(err,r,code = C):\n",
    "    buff = copy(r)\n",
    "    for pos in err:\n",
    "        buff[pos] += 1\n",
    "    return buff in C,buff"
   ]
  },
  {
   "cell_type": "code",
   "execution_count": 29,
   "id": "f88c5505-00f9-46b2-a729-34ae657d6b23",
   "metadata": {},
   "outputs": [
    {
     "data": {
      "text/html": [
       "<html>\\(\\displaystyle \\mathbf{e} = \\left\\{1, 20, 5\\right\\}\\)</html>"
      ],
      "text/latex": [
       "$\\displaystyle \\mathbf{e} = \\left\\{1, 20, 5\\right\\}$"
      ],
      "text/plain": [
       "\\mathbf{e} = \\left\\{1, 20, 5\\right\\}"
      ]
     },
     "metadata": {},
     "output_type": "display_data"
    },
    {
     "data": {
      "text/html": [
       "<html>\\(\\displaystyle \\mathbf{c} = \\left(1,\\,0,\\,0,\\,0,\\,1,\\,0,\\,1,\\,1,\\,0,\\,1,\\,1,\\,1,\\,0,\\,0,\\,1,\\,0,\\,1,\\,1,\\,1,\\,0,\\,0,\\,0,\\,0\\right)\\)</html>"
      ],
      "text/latex": [
       "$\\displaystyle \\mathbf{c} = \\left(1,\\,0,\\,0,\\,0,\\,1,\\,0,\\,1,\\,1,\\,0,\\,1,\\,1,\\,1,\\,0,\\,0,\\,1,\\,0,\\,1,\\,1,\\,1,\\,0,\\,0,\\,0,\\,0\\right)$"
      ],
      "text/plain": [
       "\\mathbf{c} = \\left(1,\\,0,\\,0,\\,0,\\,1,\\,0,\\,1,\\,1,\\,0,\\,1,\\,1,\\,1,\\,0,\\,0,\\,1,\\,0,\\,1,\\,1,\\,1,\\,0,\\,0,\\,0,\\,0\\right)"
      ]
     },
     "metadata": {},
     "output_type": "display_data"
    }
   ],
   "source": [
    "def brute_force(received,t = 3, code = C):\n",
    "    for err in Subsets(set([0..22]),k = t):\n",
    "        buff = copy(received)\n",
    "        decoded,decoded_codeword = check_err(err,buff,code = code)\n",
    "        if decoded:\n",
    "            break\n",
    "    return err,decoded_codeword\n",
    "\n",
    "err,decoded_codeword = brute_force(received)\n",
    "\n",
    "show('\\mathbf{e} =' + latex((err)))\n",
    "show('\\mathbf{c} =' + latex(decoded_codeword))\n"
   ]
  },
  {
   "cell_type": "code",
   "execution_count": 32,
   "id": "01446318-8b37-44c9-8669-537ce6233b1f",
   "metadata": {},
   "outputs": [
    {
     "name": "stdout",
     "output_type": "stream",
     "text": [
      "95.81962323188782\n"
     ]
    }
   ],
   "source": [
    "import time\n",
    "t_start = time.time()\n",
    "for r,e,c in zip(RECEIVED,ERRORS,CODEWORDS):\n",
    "    errors, decoded_codeword = brute_force(r)\n",
    "    if c != decoded_codeword:\n",
    "        print('error')\n",
    "        break\n",
    "    \n",
    "print(time.time() - t_start)"
   ]
  },
  {
   "cell_type": "markdown",
   "id": "02be61bf-4c1f-43bf-9521-949a535e1ccf",
   "metadata": {},
   "source": [
    "#### Syndrome Decoding\n",
    "The idea is to compute for every possible error vector $\\mathbf{e}$ of weight $t\\leq 3$ the syndrome:\n",
    "$$ \\mathbf{e} \\cdot \\mathbf{H}^\\perp $$\n",
    "and store them in a table with the errors."
   ]
  },
  {
   "cell_type": "code",
   "execution_count": 45,
   "id": "5038bcc8-c34e-4af8-8de8-e30e07c132e4",
   "metadata": {},
   "outputs": [
    {
     "data": {
      "text/html": [
       "<html>\\(\\displaystyle \\left(1,\\,0,\\,0,\\,0,\\,0,\\,0,\\,0,\\,0,\\,0,\\,0,\\,0\\right)\\)</html>"
      ],
      "text/latex": [
       "$\\displaystyle \\left(1,\\,0,\\,0,\\,0,\\,0,\\,0,\\,0,\\,0,\\,0,\\,0,\\,0\\right)$"
      ],
      "text/plain": [
       "(1, 0, 0, 0, 0, 0, 0, 0, 0, 0, 0)"
      ]
     },
     "metadata": {},
     "output_type": "display_data"
    },
    {
     "name": "stdout",
     "output_type": "stream",
     "text": [
      "{'(1, 0, 0, 0, 0, 0, 0, 0, 0, 0, 0)': {0}}\n"
     ]
    }
   ],
   "source": [
    "dict_synd = {}\n",
    "buff = D.zero_vector()\n",
    "buff[0] += 1\n",
    "show(C.syndrome(buff))\n",
    "dict_synd[str(C.syndrome(buff))] = {0}\n",
    "print(dict_synd)"
   ]
  },
  {
   "cell_type": "code",
   "execution_count": 46,
   "id": "ed69935c-e228-4c5a-a5ab-66c3dae5114d",
   "metadata": {},
   "outputs": [
    {
     "name": "stdout",
     "output_type": "stream",
     "text": [
      "('(1, 0, 0, 0, 0, 0, 0, 0, 0, 0, 0)', {0})\n",
      "('(1, 1, 1, 0, 0, 0, 0, 0, 0, 0, 0)', {0, 1, 2})\n",
      "('(1, 1, 0, 1, 0, 0, 0, 0, 0, 0, 0)', {0, 1, 3})\n",
      "('(1, 1, 0, 0, 1, 0, 0, 0, 0, 0, 0)', {0, 1, 4})\n",
      "('(1, 1, 0, 0, 0, 1, 0, 0, 0, 0, 0)', {0, 1, 5})\n",
      "('(1, 1, 0, 0, 0, 0, 1, 0, 0, 0, 0)', {0, 1, 6})\n",
      "('(1, 1, 0, 0, 0, 0, 0, 1, 0, 0, 0)', {0, 1, 7})\n"
     ]
    }
   ],
   "source": [
    "for err in Subsets(set([0..22]),k = 3):\n",
    "    buff = D.zero_vector()\n",
    "    for pos in err:\n",
    "        buff[pos] = 1\n",
    "    dict_synd[str(C.syndrome(buff))] = err\n",
    "\n",
    "\n",
    "# Let's see the first 5 entries\n",
    "iterator = iter(dict_synd.items())\n",
    "for i in range(7):\n",
    "    print(next(iterator))"
   ]
  },
  {
   "cell_type": "code",
   "execution_count": 47,
   "id": "9d271fe1-d262-4315-a01a-8c3b585fc33c",
   "metadata": {},
   "outputs": [
    {
     "data": {
      "text/plain": [
       "(True, (1, 0, 1, 0, 0, 0, 1, 0, 1, 0, 1, 1, 1, 1, 1, 1, 0, 0, 0, 0, 1, 0, 0))"
      ]
     },
     "execution_count": 47,
     "metadata": {},
     "output_type": "execute_result"
    }
   ],
   "source": [
    "err = dict_synd[str(C.syndrome(received))]\n",
    "check_err(err,received)"
   ]
  },
  {
   "cell_type": "code",
   "execution_count": 48,
   "id": "d3f817be-988c-41fb-807b-bd6ebeedc2cf",
   "metadata": {},
   "outputs": [
    {
     "name": "stdout",
     "output_type": "stream",
     "text": [
      "0.22689414024353027\n"
     ]
    }
   ],
   "source": [
    "import time\n",
    "t_start = time.time()\n",
    "for r in RECEIVED:\n",
    "    err = dict_synd[str(C.syndrome(r))]\n",
    "    if not check_err(err,r):\n",
    "        print('error')\n",
    "        break\n",
    "    \n",
    "print(time.time() - t_start)"
   ]
  },
  {
   "cell_type": "markdown",
   "id": "2599deb1-24c3-42d1-ab0d-39232d03de3c",
   "metadata": {},
   "source": [
    "#### Information Set Decoding\n",
    "Here we sample random information sets $I \\subset \\{ 1, ..., n \\}$ until we find one such that \n",
    "$$\\mathsf{supp}(\\mathbf{e}) \\cap I = \\emptyset$$\n",
    "\n",
    "At this point we would have that: $$\\mathbf{r}_I = \\mathbf{c}_I = \\mathbf{m} \\cdot \\mathbf{G}_I \\ .$$\n",
    "So we can solve the system for $\\mathbf{m}$ and find the codeword!"
   ]
  },
  {
   "cell_type": "code",
   "execution_count": 44,
   "id": "74409dfc-d1a7-4530-8d7b-2a2dc2bca961",
   "metadata": {
    "scrolled": true
   },
   "outputs": [
    {
     "data": {
      "text/plain": [
       "[0, 2, 3, 5, 6, 7, 9, 13, 18, 19, 21, 22]"
      ]
     },
     "execution_count": 44,
     "metadata": {},
     "output_type": "execute_result"
    }
   ],
   "source": [
    "def rand_infoset(code = C):\n",
    "    n = code.length()\n",
    "    k = code.dimension()\n",
    "    # here we add elements to the set until we get k of them\n",
    "    info_set = {randint(0,n-1)}\n",
    "    G = C.generator_matrix()\n",
    "    while len(info_set) < k:\n",
    "        info_set.add(randint(0,n-1))\n",
    "    sub_G = G[:,list(info_set)]\n",
    "\n",
    "    # if it is singular we repeat\n",
    "    while sub_G.is_singular():\n",
    "        info_set = {randint(0,n-1)}\n",
    "        while len(info_set) < k:\n",
    "            info_set.add(randint(0,n-1))\n",
    "        sub_G = G[:,list(info_set)]\n",
    "\n",
    "    # translate to list\n",
    "    info_set = list(info_set)\n",
    "    info_set.sort()\n",
    "    return info_set\n",
    "\n",
    "rand_infoset(code = C)"
   ]
  },
  {
   "cell_type": "code",
   "execution_count": 51,
   "id": "816c3d11-5f56-44f1-9ff5-6c8a04ba623a",
   "metadata": {},
   "outputs": [],
   "source": [
    "def invert_info_set(info_set, received, code = C):\n",
    "    G = C.systematic_generator_matrix()\n",
    "    sub_G = G[:,info_set]\n",
    "    sub_received = vector([x for (idx,x) in enumerate(received) if idx in info_set])\n",
    "    m = sub_received / sub_G # system solve on the right!\n",
    "    return m*G"
   ]
  },
  {
   "cell_type": "code",
   "execution_count": 56,
   "id": "2c8cc7fa-b57d-4c9e-8a6f-a23cb5da0837",
   "metadata": {},
   "outputs": [
    {
     "data": {
      "text/plain": [
       "((1, 0, 1, 0, 0, 0, 1, 0, 1, 0, 1, 1, 1, 1, 1, 1, 0, 0, 0, 0, 1, 0, 0), 9)"
      ]
     },
     "execution_count": 56,
     "metadata": {},
     "output_type": "execute_result"
    }
   ],
   "source": [
    "def info_set_decoding(received, t, code = C):\n",
    "    iter = 1\n",
    "    # take a random info set\n",
    "    info_set = rand_infoset(code = code)\n",
    "    # try to solve the system\n",
    "    sol = invert_info_set(info_set, received, code = code)\n",
    "    # check if the distance is less or equal then the threshold \n",
    "    while distH(received,sol) > t:\n",
    "        iter += 1\n",
    "        info_set = rand_infoset(code = code)\n",
    "        sol = invert_info_set(info_set, received, code = code)\n",
    "    return sol,iter\n",
    "\n",
    "info_set_decoding(received, t = 3, code = C)"
   ]
  },
  {
   "cell_type": "code",
   "execution_count": 59,
   "id": "7964f6c1-a452-4846-a20e-6b2bcf5cdc87",
   "metadata": {},
   "outputs": [
    {
     "name": "stdout",
     "output_type": "stream",
     "text": [
      "3.517163038253784\n"
     ]
    }
   ],
   "source": [
    "import time\n",
    "t_start = time.time()\n",
    "iters = []\n",
    "for r,e,c in zip(RECEIVED,ERRORS,CODEWORDS):\n",
    "    sol,iter = info_set_decoding(r, t = 3, code = C)\n",
    "    iters.append(iter)\n",
    "    if not sol == c:\n",
    "        print('error')\n",
    "        break\n",
    "    \n",
    "print(time.time() - t_start)"
   ]
  },
  {
   "cell_type": "code",
   "execution_count": 73,
   "id": "39623730-79e2-43b6-8ef4-762cc012aea0",
   "metadata": {},
   "outputs": [
    {
     "data": {
      "image/png": "[encoded data removed]",
      "text/plain": [
       "Graphics object consisting of 1 graphics primitive"
      ]
     },
     "execution_count": 73,
     "metadata": {},
     "output_type": "execute_result"
    }
   ],
   "source": [
    "from sage.plot.histogram import Histogram\n",
    "plot(histogram(iters,bins=50, density=True))"
   ]
  },
  {
   "cell_type": "markdown",
   "id": "7b55341b-d2a8-4658-a405-a177f4e005cd",
   "metadata": {},
   "source": [
    "### Algebraic decoding\n",
    "Now we would like to exploit the algebraic structure of cyclic code that we have for $\\mathcal{G}_{23} = \\langle g(x) \\rangle$, for \n",
    "$$ g(x) = x^{11} + x^{9} + x^{7} + x^{6} + x^{5} + x + 1 $$\n",
    "\n",
    "We know that, if $r(x) = c(x) + e(x)$ with $g(x) \\mid c(x)$ and error positions $\\{e_1,e_2,e_3\\}$ (so $e(x) = x^{e_1} + x^{e_2} + x^{e_3}$, then for any root $\\alpha$ of $g(x)$ we have\n",
    "$$r(\\alpha) = c(\\alpha) + e(\\alpha) = 0 + e(\\alpha) = e(\\alpha) = \\alpha^{e_1} + \\alpha^{e_2} + \\alpha^{e_3} =: s$$"
   ]
  },
  {
   "cell_type": "code",
   "execution_count": 214,
   "id": "e2192340-9129-4672-acf9-d1bd6c15d942",
   "metadata": {},
   "outputs": [],
   "source": [
    "R.<x> = GF(2)['x']\n",
    "f = x**11 + x**2 + 1\n",
    "beta = GF(2**11,name = 'beta', modulus = f).gen()\n",
    "alpha = beta**-89"
   ]
  },
  {
   "cell_type": "code",
   "execution_count": 215,
   "id": "3756d70d-9db6-4cb2-94f4-c1f0c7c41f4a",
   "metadata": {},
   "outputs": [
    {
     "data": {
      "text/html": [
       "<html>\\(\\displaystyle \\beta^{10} + \\beta^{5} + \\beta^{4} + \\beta^{3} + \\beta^{2} + 1\\)</html>"
      ],
      "text/latex": [
       "$\\displaystyle \\beta^{10} + \\beta^{5} + \\beta^{4} + \\beta^{3} + \\beta^{2} + 1$"
      ],
      "text/plain": [
       "beta^10 + beta^5 + beta^4 + beta^3 + beta^2 + 1"
      ]
     },
     "metadata": {},
     "output_type": "display_data"
    }
   ],
   "source": [
    "show(alpha)"
   ]
  },
  {
   "cell_type": "code",
   "execution_count": 216,
   "id": "ccc846ca-7913-4220-b203-5e3e182fdf13",
   "metadata": {},
   "outputs": [
    {
     "data": {
      "text/html": [
       "<html>\\(\\displaystyle 23\\)</html>"
      ],
      "text/latex": [
       "$\\displaystyle 23$"
      ],
      "text/plain": [
       "23"
      ]
     },
     "metadata": {},
     "output_type": "display_data"
    }
   ],
   "source": [
    "show(alpha.multiplicative_order())"
   ]
  },
  {
   "cell_type": "code",
   "execution_count": 217,
   "id": "50205e67-bff5-496b-a494-a1ef70aea178",
   "metadata": {},
   "outputs": [
    {
     "data": {
      "text/html": [
       "<html>\\(\\displaystyle x^{11} + x^{10} + x^{6} + x^{5} + x^{4} + x^{2} + 1\\)</html>"
      ],
      "text/latex": [
       "$\\displaystyle x^{11} + x^{10} + x^{6} + x^{5} + x^{4} + x^{2} + 1$"
      ],
      "text/plain": [
       "x^11 + x^10 + x^6 + x^5 + x^4 + x^2 + 1"
      ]
     },
     "metadata": {},
     "output_type": "display_data"
    }
   ],
   "source": [
    "show(alpha.minimal_polynomial())"
   ]
  },
  {
   "cell_type": "code",
   "execution_count": 260,
   "id": "969c9e7b-af03-4087-bf76-2650e7c5b870",
   "metadata": {},
   "outputs": [
    {
     "data": {
      "text/plain": [
       "[1 0 1 0 1 1 1 0 0 0 1 1 0 0 0 0 0 0 0 0 0 0 0]\n",
       "[0 1 0 1 0 1 1 1 0 0 0 1 1 0 0 0 0 0 0 0 0 0 0]\n",
       "[0 0 1 0 1 0 1 1 1 0 0 0 1 1 0 0 0 0 0 0 0 0 0]\n",
       "[0 0 0 1 0 1 0 1 1 1 0 0 0 1 1 0 0 0 0 0 0 0 0]\n",
       "[0 0 0 0 1 0 1 0 1 1 1 0 0 0 1 1 0 0 0 0 0 0 0]\n",
       "[0 0 0 0 0 1 0 1 0 1 1 1 0 0 0 1 1 0 0 0 0 0 0]\n",
       "[0 0 0 0 0 0 1 0 1 0 1 1 1 0 0 0 1 1 0 0 0 0 0]\n",
       "[0 0 0 0 0 0 0 1 0 1 0 1 1 1 0 0 0 1 1 0 0 0 0]\n",
       "[0 0 0 0 0 0 0 0 1 0 1 0 1 1 1 0 0 0 1 1 0 0 0]\n",
       "[0 0 0 0 0 0 0 0 0 1 0 1 0 1 1 1 0 0 0 1 1 0 0]\n",
       "[0 0 0 0 0 0 0 0 0 0 1 0 1 0 1 1 1 0 0 0 1 1 0]\n",
       "[0 0 0 0 0 0 0 0 0 0 0 1 0 1 0 1 1 1 0 0 0 1 1]"
      ]
     },
     "execution_count": 260,
     "metadata": {},
     "output_type": "execute_result"
    }
   ],
   "source": [
    "C.generator_matrix()"
   ]
  },
  {
   "cell_type": "code",
   "execution_count": 220,
   "id": "e8026c26-e9cb-47ad-8e21-89d668eeedfd",
   "metadata": {},
   "outputs": [
    {
     "data": {
      "text/html": [
       "<html>\\(\\displaystyle x^{21} + x^{20} + x^{19} + x^{17} + x^{16} + x^{15} + x^{11} + x^{10} + x^{9} + x^{6} + x^{4} + x^{2} + 1\\)</html>"
      ],
      "text/latex": [
       "$\\displaystyle x^{21} + x^{20} + x^{19} + x^{17} + x^{16} + x^{15} + x^{11} + x^{10} + x^{9} + x^{6} + x^{4} + x^{2} + 1$"
      ],
      "text/plain": [
       "x^21 + x^20 + x^19 + x^17 + x^16 + x^15 + x^11 + x^10 + x^9 + x^6 + x^4 + x^2 + 1"
      ]
     },
     "metadata": {},
     "output_type": "display_data"
    },
    {
     "data": {
      "text/html": [
       "<html>\\(\\displaystyle \\verb|s=| \\beta^{10} + \\beta^{8} + \\beta^{5}\\)</html>"
      ],
      "text/latex": [
       "$\\displaystyle \\verb|s=| \\beta^{10} + \\beta^{8} + \\beta^{5}$"
      ],
      "text/plain": [
       "'s= ' beta^10 + beta^8 + beta^5"
      ]
     },
     "metadata": {},
     "output_type": "display_data"
    }
   ],
   "source": [
    "received = RECEIVED[2]\n",
    "r = R(list(received))\n",
    "show(r)\n",
    "synd = r(alpha)\n",
    "show('s= ',synd)"
   ]
  },
  {
   "cell_type": "code",
   "execution_count": 221,
   "id": "6bb93aac-8ea3-445a-9cee-20705003f751",
   "metadata": {},
   "outputs": [
    {
     "data": {
      "text/plain": [
       "S + x^11 + x^2 + 1"
      ]
     },
     "execution_count": 221,
     "metadata": {},
     "output_type": "execute_result"
    }
   ],
   "source": [
    "Multi.<S> = R['S']\n",
    "ex = x**11 + x**2 + 1 + S\n",
    "ex"
   ]
  },
  {
   "cell_type": "markdown",
   "id": "de82793a-c0d9-423b-9231-5f2c80c755ab",
   "metadata": {},
   "source": [
    "Consider now an *error locator polynomial* $L(x)$ such that:\n",
    "$$ L(x) = (x - \\alpha^{e_1})(x - \\alpha^{e_2})(x - \\alpha^{e_3}) $$\n",
    "We hope to find it starting from the *syndrome* $s = \\alpha^{e_1} + \\alpha^{e_2} + \\alpha^{e_3}$, for example from a direct calculation we have that the coefficient of $x^2$ is actually:\n",
    "$$ - \\alpha^{e_1} - \\alpha^{e_2} - \\alpha^{e_3} = -s $$\n",
    "so we have hope that some relation can be found...\n",
    "\n",
    "Now let's apply some magic (i.e. we compute some *Groebner Basis* https://en.wikipedia.org/wiki/Gröbner_basis) to get the secret algebraic relation:"
   ]
  },
  {
   "cell_type": "code",
   "execution_count": 226,
   "id": "2f374406-7cf7-4634-a6e7-332ede7c07a2",
   "metadata": {},
   "outputs": [
    {
     "data": {
      "text/html": [
       "<html>\\(\\displaystyle S^{277} + x^{22} S^{276} + x^{19} S^{273} + x^{18} S^{272} + x^{7} S^{261} + x^{6} S^{260} + x^{3} S^{257} + x^{2} S^{256} + S^{70} + x^{21} S^{68} + x^{19} S^{66} + x^{17} S^{64} + S^{47} + x^{22} S^{46} + x^{21} S^{45} + x^{20} S^{44} + x^{19} S^{43} + x^{18} S^{42} + x^{17} S^{41} + x^{16} S^{40} + x^{15} S^{39} + x^{14} S^{38} + x^{13} S^{37} + x^{12} S^{36} + x^{11} S^{35} + x^{10} S^{34} + x^{9} S^{33} + x^{8} S^{32} + x^{20} S^{21} + x^{19} S^{20} + x^{16} S^{17} + x^{15} S^{16} + x^{14} S^{15} + x^{13} S^{14} + x^{12} S^{13} + x^{11} S^{12} + x^{10} S^{11} + x^{9} S^{10} + x^{8} S^{9} + x^{7} S^{8} + x^{6} S^{7} + x^{3} S^{4} + x^{2} S^{3} + S\\)</html>"
      ],
      "text/latex": [
       "$\\displaystyle S^{277} + x^{22} S^{276} + x^{19} S^{273} + x^{18} S^{272} + x^{7} S^{261} + x^{6} S^{260} + x^{3} S^{257} + x^{2} S^{256} + S^{70} + x^{21} S^{68} + x^{19} S^{66} + x^{17} S^{64} + S^{47} + x^{22} S^{46} + x^{21} S^{45} + x^{20} S^{44} + x^{19} S^{43} + x^{18} S^{42} + x^{17} S^{41} + x^{16} S^{40} + x^{15} S^{39} + x^{14} S^{38} + x^{13} S^{37} + x^{12} S^{36} + x^{11} S^{35} + x^{10} S^{34} + x^{9} S^{33} + x^{8} S^{32} + x^{20} S^{21} + x^{19} S^{20} + x^{16} S^{17} + x^{15} S^{16} + x^{14} S^{15} + x^{13} S^{14} + x^{12} S^{13} + x^{11} S^{12} + x^{10} S^{11} + x^{9} S^{10} + x^{8} S^{9} + x^{7} S^{8} + x^{6} S^{7} + x^{3} S^{4} + x^{2} S^{3} + S$"
      ],
      "text/plain": [
       "S^277 + x^22*S^276 + x^19*S^273 + x^18*S^272 + x^7*S^261 + x^6*S^260 + x^3*S^257 + x^2*S^256 + S^70 + x^21*S^68 + x^19*S^66 + x^17*S^64 + S^47 + x^22*S^46 + x^21*S^45 + x^20*S^44 + x^19*S^43 + x^18*S^42 + x^17*S^41 + x^16*S^40 + x^15*S^39 + x^14*S^38 + x^13*S^37 + x^12*S^36 + x^11*S^35 + x^10*S^34 + x^9*S^33 + x^8*S^32 + x^20*S^21 + x^19*S^20 + x^16*S^17 + x^15*S^16 + x^14*S^15 + x^13*S^14 + x^12*S^13 + x^11*S^12 + x^10*S^11 + x^9*S^10 + x^8*S^9 + x^7*S^8 + x^6*S^7 + x^3*S^4 + x^2*S^3 + S"
      ]
     },
     "metadata": {},
     "output_type": "display_data"
    }
   ],
   "source": [
    "LL = S^277 + S^276*x^22 + S^273*x^19 + S^272*x^18 + \\\n",
    "             S^261*x^7 + S^260*x^6 + S^257*x^3 + S^256*x^2 + \\\n",
    "             S^70 + S^68*x^21 + S^66*x^19 + S^64*x^17 + S^47 + \\\n",
    "             S^46*x^22 + S^45*x^21 + S^44*x^20 + S^43*x^19 + \\\n",
    "             S^42*x^18 + S^41*x^17 + S^40*x^16 + S^39*x^15 + \\\n",
    "             S^38*x^14 + S^37*x^13 + S^36*x^12 + S^35*x^11 + \\\n",
    "             S^34*x^10 + S^33*x^9 + S^32*x^8 + S^21*x^20 + \\\n",
    "             S^20*x^19 + S^17*x^16 + S^16*x^15 + S^15*x^14 + \\\n",
    "             S^14*x^13 + S^13*x^12 + S^12*x^11 + S^11*x^10 + \\\n",
    "             S^10*x^9 + S^9*x^8 + S^8*x^7 + S^7*x^6 + \\\n",
    "             S^4*x^3 + S^3*x^2 + S\n",
    "\n",
    "show(LL)"
   ]
  },
  {
   "cell_type": "code",
   "execution_count": 230,
   "id": "cb18949e-b968-4c68-b094-1e9b48eeeaf5",
   "metadata": {},
   "outputs": [
    {
     "data": {
      "text/plain": [
       "x^3 + (beta^10 + beta^9 + beta^6 + beta^3 + beta^2 + beta)*x^2 + (beta^9 + beta^8 + beta^7 + beta^5 + beta^3)*x + beta^10 + beta^6 + beta^5 + beta^4 + beta^3 + beta^2"
      ]
     },
     "execution_count": 230,
     "metadata": {},
     "output_type": "execute_result"
    }
   ],
   "source": [
    "gcd(LL(synd),x**23 + 1)"
   ]
  },
  {
   "cell_type": "code",
   "execution_count": 259,
   "id": "122f4935-f879-442d-bcb9-730fa1938b69",
   "metadata": {},
   "outputs": [
    {
     "data": {
      "text/html": [
       "<html>\\(\\displaystyle x^{3} + \\left(\\beta^{10} + \\beta^{8} + \\beta^{5}\\right) x^{2} + \\left(\\beta^{10} + \\beta^{8} + \\beta^{5}\\right) x + 1\\)</html>"
      ],
      "text/latex": [
       "$\\displaystyle x^{3} + \\left(\\beta^{10} + \\beta^{8} + \\beta^{5}\\right) x^{2} + \\left(\\beta^{10} + \\beta^{8} + \\beta^{5}\\right) x + 1$"
      ],
      "text/plain": [
       "x^3 + (beta^10 + beta^8 + beta^5)*x^2 + (beta^10 + beta^8 + beta^5)*x + 1"
      ]
     },
     "metadata": {},
     "output_type": "display_data"
    },
    {
     "name": "stdout",
     "output_type": "stream",
     "text": [
      "\n",
      "Error positions : 0 13 10 "
     ]
    }
   ],
   "source": [
    "r = list(RECEIVED[2])\n",
    "r = R(r)\n",
    "synd = r(alpha)\n",
    "\n",
    "show(gcd(polynomial(synd),x**23 + 1))\n",
    "print()\n",
    "print('Error positions :',end=' ')\n",
    "for i in range(3): \n",
    "    root = gcd(LL(synd,x),x**23 + 1).roots()[i][0]\n",
    "    print(log(root,alpha**-1), end=' ')"
   ]
  },
  {
   "cell_type": "code",
   "execution_count": 258,
   "id": "b4b5c7dd-5524-4114-a796-eb2316f6977b",
   "metadata": {},
   "outputs": [
    {
     "data": {
      "text/plain": [
       "([13, 18, 19], [13, 18, 19])"
      ]
     },
     "execution_count": 258,
     "metadata": {},
     "output_type": "execute_result"
    }
   ],
   "source": [
    "def algebraic_solutions(received):\n",
    "    r = list(received)\n",
    "    r = R(r)\n",
    "    synd = r(alpha)\n",
    "    err = []\n",
    "    for i in range(3): \n",
    "        root = gcd(LL(synd),x**23 + 1).roots()[i][0]\n",
    "        err.append((23-log(root,alpha)) % 23)\n",
    "    err.sort()\n",
    "    return err\n",
    "\n",
    "algebraic_solutions(RECEIVED[0]),ERRORS[0]"
   ]
  },
  {
   "cell_type": "code",
   "execution_count": 257,
   "id": "2135b7c1-4f0f-469f-8517-afb6e59636b9",
   "metadata": {},
   "outputs": [
    {
     "name": "stdout",
     "output_type": "stream",
     "text": [
      "15.653797149658203\n"
     ]
    }
   ],
   "source": [
    "import time\n",
    "t_start = time.time()\n",
    "iters = []\n",
    "for r,e,c in zip(RECEIVED,ERRORS,CODEWORDS):\n",
    "    err = algebraic_solutions(r)\n",
    "    if not set(err)==(set(e)):\n",
    "        print('error',err,e)\n",
    "\n",
    "    \n",
    "print(time.time() - t_start)"
   ]
  },
  {
   "cell_type": "markdown",
   "id": "6a6db8c0-3961-4914-98e3-a48a9d83a1eb",
   "metadata": {},
   "source": [
    "Some references for this magic:  \n",
    "* Chapter 10 of the wonderful book: *Codes, Cryptology and Curves with Computer Algebra*,\n",
    "Ruud Pellikaan, Xin-Wen Wu, Stanislav Bulygin, Relinde Jurrius (in case give also a look to **chapter 12**).\n",
    "* NASA decoding procedure from 1988, https://ipnpr.jpl.nasa.gov/progress_report/42-96/96E.PDF\n",
    "* *The Golay codes*, Mario de Boer and Ruud Pellikaan, from TU/e https://www.win.tue.nl/~ruudp/paper/36.pdf\n",
    "* Gröbner Basis, any Computational Algebra Book\n",
    "* A small presentation on this topic on my own: https://giacomoborin.github.io/talks/2022-05-11-aca-coding\n",
    "  "
   ]
  }
 ],
 "metadata": {
  "kernelspec": {
   "display_name": "SageMath 10.2",
   "language": "sage",
   "name": "sagemath"
  },
  "language_info": {
   "codemirror_mode": {
    "name": "ipython",
    "version": 3
   },
   "file_extension": ".py",
   "mimetype": "text/x-python",
   "name": "python",
   "nbconvert_exporter": "python",
   "pygments_lexer": "ipython3",
   "version": "3.11.1"
  }
 },
 "nbformat": 4,
 "nbformat_minor": 5
}
