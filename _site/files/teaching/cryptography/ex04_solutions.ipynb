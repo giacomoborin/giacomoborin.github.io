{
 "cells": [
  {
   "cell_type": "markdown",
   "metadata": {},
   "source": [
    "# Exercise 04\n",
    "\n",
    "Generation of the exercise parameters:"
   ]
  },
  {
   "cell_type": "code",
   "execution_count": 1,
   "metadata": {},
   "outputs": [
    {
     "name": "stdout",
     "output_type": "stream",
     "text": [
      "712072834703\n",
      "574250922871 31 306.203287954283\n"
     ]
    }
   ],
   "source": [
    "size = 20\n",
    "# p = random_prime(2**size)\n",
    "# q = random_prime(2**size)\n",
    "p,q = 797813, 892531\n",
    "N = p*q\n",
    "print((N))\n",
    "phi = (p-1)*(q-1)\n",
    "d = 31\n",
    "e = inverse_mod(d,phi)\n",
    "print(e,d,(N)**(0.25)/3)"
   ]
  },
  {
   "cell_type": "code",
   "execution_count": 2,
   "metadata": {},
   "outputs": [
    {
     "name": "stdout",
     "output_type": "stream",
     "text": [
      "fraction expansion of e/N: [0; 1, 4, 6, 543, 3]...\n",
      "the convergets are [0, 1, 4/5, 25/31]...\n",
      "found d: 31\n"
     ]
    }
   ],
   "source": [
    "# check of the encryption and decryption works\n",
    "f = continued_fraction(e/N)\n",
    "print(f'fraction expansion of e/N: {f[:7]}...')\n",
    "print(f'the convergets are {f.convergents()[:4]}...')\n",
    "convergents = f.convergents()\n",
    "for i in range(1, 1000):\n",
    "    r = convergents[i]\n",
    "    d = r.denominator()\n",
    "    if pow(pow(2, e, N), d, N) == 2:\n",
    "        print(f'found d: {d}')\n",
    "        break\n",
    "        \n",
    "assert d < 1/3 * N**0.25"
   ]
  },
  {
   "cell_type": "markdown",
   "metadata": {},
   "source": [
    "## Solutions"
   ]
  },
  {
   "cell_type": "markdown",
   "metadata": {},
   "source": [
    "### Exercises 0 and 1"
   ]
  },
  {
   "cell_type": "code",
   "execution_count": 3,
   "metadata": {},
   "outputs": [
    {
     "name": "stdout",
     "output_type": "stream",
     "text": [
      "(z + 2)^3\n",
      "1\n"
     ]
    }
   ],
   "source": [
    "_.<z> = GF(5)[]\n",
    "f = z**3 + z**2 + 2*z + 3\n",
    "print ( f.factor() )\n",
    "print ( z**20 % f)"
   ]
  },
  {
   "cell_type": "code",
   "execution_count": 4,
   "metadata": {},
   "outputs": [
    {
     "name": "stdout",
     "output_type": "stream",
     "text": [
      "[0, 0, 1, 4, 4, 0, 0, 3, 2, 2, 0, 0, 4, 1, 1, 0, 0, 2, 3, 3, 0, 0, 1]\n"
     ]
    }
   ],
   "source": [
    "def f(s):\n",
    "    return s[-1]*4 + s[-2]*3 + s[-3]*2\n",
    "\n",
    "d = [0, 0, GF(5)(1)]\n",
    "for i in range(3, 23):\n",
    "    d.append(f(d))\n",
    "print(d)"
   ]
  },
  {
   "cell_type": "code",
   "execution_count": 1,
   "metadata": {},
   "outputs": [
    {
     "name": "stdout",
     "output_type": "stream",
     "text": [
      "True\n",
      "True\n",
      "True\n"
     ]
    }
   ],
   "source": [
    "_.<z> = GF(2)[]\n",
    "f1 = z**19 + z**18 + z**17 + z**14 + 1\n",
    "print(f1.is_primitive())\n",
    "f2 = z**22 + z**21 + 1\n",
    "print(f2.is_primitive())\n",
    "f3 = z**23 + z**22 + z**21 + z**8 + 1\n",
    "print(f3.is_primitive())"
   ]
  },
  {
   "cell_type": "code",
   "execution_count": 6,
   "metadata": {},
   "outputs": [
    {
     "name": "stdout",
     "output_type": "stream",
     "text": [
      "3 * 23 * 89 * 683\n"
     ]
    }
   ],
   "source": [
    "max_order = 2**22 - 1\n",
    "print(max_order.factor())\n",
    "ff = [3, 23, 89, 683]"
   ]
  },
  {
   "cell_type": "code",
   "execution_count": 7,
   "metadata": {},
   "outputs": [
    {
     "name": "stdout",
     "output_type": "stream",
     "text": [
      "z^21 + z^19 + z^18 + z^17 + z^14 + z^13 + z^12 + z^10 + z^6 + z^5 + z + 1\n",
      "z^20 + z^19 + z^18 + z^9 + z^8 + z^6 + z^5 + z^4\n",
      "z^21 + z^19 + z^17 + z^16 + z^13 + z^12 + z^11 + z^8 + z^7 + z^5 + z^4 + z^3\n",
      "z^20 + z^19 + z^17 + z^16 + z^12 + z^5 + z^4 + z^3 + z + 1\n",
      "1\n"
     ]
    }
   ],
   "source": [
    "for _f in ff:\n",
    "    print(pow(z, max_order//_f, f2))\n",
    "print(pow(z, max_order, f2))"
   ]
  },
  {
   "cell_type": "code",
   "execution_count": 1,
   "metadata": {},
   "outputs": [
    {
     "name": "stdout",
     "output_type": "stream",
     "text": [
      "['524287 = 524287', '4194303 = 3 * 23 * 89 * 683', '8388607 = 47 * 178481']\n",
      "lcm of the numbers is 18446702292280803327\n"
     ]
    }
   ],
   "source": [
    "orders = [ 2**19 - 1, 2**22 - 1, 2**23 - 1]\n",
    "print([f'{_o} = {_o.factor()}' for _o in orders])\n",
    "print(f'lcm of the numbers is {prod(orders)}')"
   ]
  },
  {
   "cell_type": "markdown",
   "metadata": {},
   "source": [
    "### Exercise 2\n",
    "\n",
    "Weiner attack: we are given the public exponent and the public modulus.\n"
   ]
  },
  {
   "cell_type": "code",
   "execution_count": 6,
   "metadata": {},
   "outputs": [
    {
     "name": "stdout",
     "output_type": "stream",
     "text": [
      "Encryption of 2 is 544315886326\n"
     ]
    }
   ],
   "source": [
    "## parameters\n",
    "e = 574250922871\n",
    "n = 712072834703\n",
    "print(f'Encryption of 2 is {pow(2, e, n)}')"
   ]
  },
  {
   "cell_type": "markdown",
   "metadata": {},
   "source": [
    "The continued fraction expansion of a (rational) number $s$ is an expression of the form:\n",
    "$$\n",
    "    a_0 + \\frac{1}{\n",
    "        a_1 + \\frac{1}{\n",
    "            a_2 + \\frac{1}{\n",
    "                a_3 + \\frac{1}{\n",
    "                    a_4 + \\frac{1}{\n",
    "                        \\dots\n",
    "                    }\n",
    "                }\n",
    "            }\n",
    "        }\n",
    "    }\n",
    "$$\n",
    "\n",
    "It is clear the coefficients $a_0,a_1,...$ can computed recursively performing division with reminder."
   ]
  },
  {
   "cell_type": "code",
   "execution_count": 4,
   "metadata": {},
   "outputs": [
    {
     "name": "stdout",
     "output_type": "stream",
     "text": [
      "Continued fraction expansion: [0, 1, 4, 6, 543, 2, 1, 1, 49, 1, 3, 12, 1, 1, 4, 1, 5, 3, 1, 3, 3]\n"
     ]
    }
   ],
   "source": [
    "def continued_fraction_exp(numerator, denominator):\n",
    "    \"\"\"\n",
    "    Compute the continued fraction expansion of a rational number\n",
    "    and its convergents.\n",
    "    \"\"\"\n",
    "    cf = []\n",
    "    while denominator != 0:\n",
    "        quotient = numerator // denominator\n",
    "        remainder = numerator % denominator\n",
    "        cf.append(quotient)\n",
    "        numerator, denominator = denominator, remainder\n",
    "    return cf\n",
    "\n",
    "# Example usage:\n",
    "numerator = e\n",
    "denominator = n\n",
    "cf = continued_fraction_exp(numerator, denominator)\n",
    "print(f\"Continued fraction expansion: {cf}\")"
   ]
  },
  {
   "cell_type": "markdown",
   "metadata": {},
   "source": [
    "Another important properties of the continued fractions is that the $k$-th convergent can be recursively computed from the previous two convergents and the coefficients.\n",
    "In particular, let $d_k$ be the $k$-th denominator, then:\n",
    "$$\n",
    "    d_k = a_m d_{k-1} + d_{k-2} \\ .\n",
    "$$\n",
    "Via fixing $d_0 = 1$ and $d_1 = a_1$ we can the evaluate them all."
   ]
  },
  {
   "cell_type": "code",
   "execution_count": 5,
   "metadata": {},
   "outputs": [
    {
     "name": "stdout",
     "output_type": "stream",
     "text": [
      "Step 0: quotient = 0\n",
      "Step 0: d0 = 1\n",
      "Step 1: quotient = 1\n",
      "Step 1: d1 = 1, d0 = 1\n",
      "Step 2: quotient = 4\n",
      "Step 2: d = 5 = 4 * 1 + 1\n",
      "Step 3: quotient = 6\n",
      "Step 3: d = 31 = 6 * 5 + 1\n"
     ]
    },
    {
     "data": {
      "text/plain": [
       "31"
      ]
     },
     "execution_count": 5,
     "metadata": {},
     "output_type": "execute_result"
    }
   ],
   "source": [
    "def check_rsa(d, e = e, n = n):\n",
    "    return pow(pow(2, e, n), d, n) == 2\n",
    "\n",
    "cf = continued_fraction_exp(e, n)\n",
    "def find_d(cf, e = e, n = n):\n",
    "    \"\"\"\n",
    "    Find the private exponent d from the continued fraction expansion\n",
    "    of e/n.\n",
    "    \"\"\"\n",
    "    i = 0\n",
    "    numerator = e\n",
    "    denominator = n\n",
    "\n",
    "    while True:\n",
    "        quotient = numerator // denominator\n",
    "        remainder = numerator % denominator\n",
    "        numerator, denominator = denominator, remainder\n",
    "        print(f\"Step {i}: quotient = {quotient}\")\n",
    "        if i == 0: \n",
    "            _d0 = 1\n",
    "            print(f\"Step {i}: d0 = {_d0}\")\n",
    "            if check_rsa(_d0):\n",
    "                return _d0\n",
    "        elif i == 1:\n",
    "            _d1 = quotient\n",
    "            print(f\"Step {i}: d1 = {_d1}, d0 = {_d0}\")\n",
    "            if check_rsa(_d1):\n",
    "                return _d1\n",
    "        else:\n",
    "            d = quotient * _d1 +  _d0\n",
    "            print(f\"Step {i}: d = {d} = {quotient} * {_d1} + {_d0}\")\n",
    "            if check_rsa(d):\n",
    "                return d\n",
    "            _d0, _d1 = _d1, d\n",
    "        i += 1\n",
    "        \n",
    "find_d(cf)"
   ]
  },
  {
   "cell_type": "code",
   "execution_count": 13,
   "metadata": {},
   "outputs": [
    {
     "name": "stdout",
     "output_type": "stream",
     "text": [
      "0x4b1d6ec23470ee5bbce81aca3286cc42d0967b865eb54529f7a0ea2a64661711\n"
     ]
    }
   ],
   "source": [
    "from sympy import randprime, nextprime, isprime\n",
    "\n",
    "while True:\n",
    "    p = randprime(2**127, 2**128)\n",
    "    q = nextprime(p)\n",
    "    if isprime((p-1) // 2) and isprime((q-1) // 2):\n",
    "        break\n",
    "n = p * q\n",
    "print(hex(n))"
   ]
  },
  {
   "cell_type": "code",
   "execution_count": null,
   "metadata": {},
   "outputs": [],
   "source": [
    "n = 0xc3348eace373f1f97fe6f64f4145b3bcf2488f31170c0ec8a404466029d55ded \n",
    "n.factor(verbose = 4)\n"
   ]
  },
  {
   "cell_type": "code",
   "execution_count": 7,
   "metadata": {},
   "outputs": [],
   "source": [
    "n = 0xc3348eace373f1f97fe6f64f4145b3bcf2488f31170c0ec8a404466029d55ded "
   ]
  },
  {
   "cell_type": "code",
   "execution_count": 8,
   "metadata": {},
   "outputs": [],
   "source": [
    "def fermat_factorization(n):\n",
    "    if n <= 0:\n",
    "        raise ValueError(\"The number must be a positive integer.\")\n",
    "\n",
    "    # Check if n is a perfect square\n",
    "    if n.is_square():\n",
    "        return (n.isqrt(), n.isqrt())\n",
    "\n",
    "    x = n.isqrt()\n",
    "    if x * x == n:\n",
    "        return (x, x)\n",
    "\n",
    "    x += 1 if x * x < n else 0\n",
    "\n",
    "    while True:\n",
    "        y2 = x * x - n\n",
    "        if y2.is_square():\n",
    "            y = y2.isqrt()\n",
    "            return (x + y, x - y)\n",
    "        x += 1"
   ]
  },
  {
   "cell_type": "code",
   "execution_count": 9,
   "metadata": {},
   "outputs": [
    {
     "name": "stdout",
     "output_type": "stream",
     "text": [
      "p: 297142838093316797395239584655506734007, q: 297142838093316797395239584655506733947, |p-q| = 60\n"
     ]
    }
   ],
   "source": [
    "p,q = fermat_factorization(n)\n",
    "print(f'p: {p}, q: {q}, |p-q| = {abs(p-q)}')"
   ]
  },
  {
   "cell_type": "code",
   "execution_count": 21,
   "metadata": {},
   "outputs": [
    {
     "data": {
      "text/plain": [
       "0"
      ]
     },
     "execution_count": 21,
     "metadata": {},
     "output_type": "execute_result"
    }
   ],
   "source": [
    "p = next_prime(n.sqrt().round())\n",
    "n % p"
   ]
  },
  {
   "cell_type": "markdown",
   "metadata": {},
   "source": [
    "### Exercise 3"
   ]
  },
  {
   "cell_type": "code",
   "execution_count": 10,
   "metadata": {},
   "outputs": [
    {
     "data": {
      "text/plain": [
       "15"
      ]
     },
     "execution_count": 10,
     "metadata": {},
     "output_type": "execute_result"
    }
   ],
   "source": [
    "(6*14 + 20*9 + 3*4) % 29"
   ]
  },
  {
   "cell_type": "code",
   "execution_count": 34,
   "metadata": {},
   "outputs": [
    {
     "name": "stdout",
     "output_type": "stream",
     "text": [
      "Initial setup: L=0, m=1, b=1, C=1\n",
      "Sequences: [4, 9, 14, 22, 13, 6]\n",
      "Step 0: Discrepancy d = 4\n",
      "Updated C: 25*x + 1\n",
      "L updated to 1, new B=1\n",
      "Step 1: Discrepancy d = 22\n",
      "Updated C: 5*x + 1\n",
      "Step 2: Discrepancy d = 1\n",
      "Updated C: 7*x^2 + 5*x + 1\n",
      "L updated to 2, new B=5*x + 1\n",
      "Step 3: Discrepancy d = 10\n",
      "Updated C: 15*x^2 + 24*x + 1\n",
      "Step 4: Discrepancy d = 26\n",
      "Updated C: 15*x^3 + 18*x^2 + 24*x + 1\n",
      "L updated to 3, new B=15*x^2 + 24*x + 1\n",
      "Step 5: Discrepancy d = 25\n",
      "Updated C: 24*x^3 + 15*x^2 + 13*x + 1\n",
      "Final connection polynomial: 24*x^3 + 15*x^2 + 13*x + 1\n"
     ]
    }
   ],
   "source": [
    "p = 29\n",
    "F = GF(p)  # Define the finite field GF(p)\n",
    "R.<x> = PolynomialRing(F)  # Define polynomial ring over GF(p)\n",
    "\n",
    "def berlekamp_massey(s):\n",
    "    n = len(s)  # Length of sequence\n",
    "    L, m, b = 0, 1, F(1)  # LFSR parameters\n",
    "    C = R(1)  # Connection polynomial (1 initially)\n",
    "    B = R(1)  # Temporary polynomial\n",
    "    \n",
    "    print(f\"Initial setup: L={L}, m={m}, b={b}, C={C}\")\n",
    "    \n",
    "    print(f'Sequences: {s}')\n",
    "    for N in range(n):\n",
    "        # first we check if the LFSR equation is verified\n",
    "        d = sum (C.list()[i] * s[N - i] for i in range(0,L+ 1) if i <= N and i <= C.degree() )  # Discrepancy\n",
    "        d = F(d)\n",
    "        print(f\"Step {N}: Discrepancy d = {d}\")\n",
    "        \n",
    "        if d == 0:\n",
    "            m += 1  # No update needed, just increment m\n",
    "        else:\n",
    "            T = C  # Copy of C\n",
    "            coeff = d / b  # Correction factor\n",
    "            C -= coeff * x^m * B  # Update C using polynomial operations\n",
    "            \n",
    "            print(f\"Updated C: {C}\")\n",
    "            \n",
    "            if 2 * L <= N:\n",
    "                L = N + 1 - L\n",
    "                B = T  # Save old C\n",
    "                b = d  # Update b\n",
    "                m = 1  # Reset m\n",
    "                print(f\"L updated to {L}, new B={B}\")\n",
    "            else:\n",
    "                m += 1\n",
    "    \n",
    "    print(f\"Final connection polynomial: {C}\")\n",
    "    return C, L\n",
    "\n",
    "s = [4, 9, 14, 22, 13, 6]  # Example sequence\n",
    "chi,L = berlekamp_massey(s)\n"
   ]
  },
  {
   "cell_type": "code",
   "execution_count": 27,
   "metadata": {},
   "outputs": [
    {
     "data": {
      "text/plain": [
       "x^3 + 13*x^2 + 15*x + 24"
      ]
     },
     "execution_count": 27,
     "metadata": {},
     "output_type": "execute_result"
    }
   ],
   "source": [
    "x**L * chi(1/x)"
   ]
  },
  {
   "cell_type": "code",
   "execution_count": null,
   "metadata": {},
   "outputs": [],
   "source": []
  }
 ],
 "metadata": {
  "kernelspec": {
   "display_name": "SageMath 10.5",
   "language": "sage",
   "name": "SageMath-10.5"
  },
  "language_info": {
   "codemirror_mode": {
    "name": "ipython",
    "version": 3
   },
   "file_extension": ".py",
   "mimetype": "text/x-python",
   "name": "sage",
   "nbconvert_exporter": "python",
   "pygments_lexer": "ipython3",
   "version": "3.12.5"
  }
 },
 "nbformat": 4,
 "nbformat_minor": 2
}
