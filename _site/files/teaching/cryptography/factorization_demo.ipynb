{
 "cells": [
  {
   "cell_type": "markdown",
   "metadata": {},
   "source": [
    "# Factorization and RSA\n",
    "\n",
    "Here a simple demo on factorization and the security of RSA."
   ]
  },
  {
   "cell_type": "code",
   "execution_count": 1,
   "metadata": {},
   "outputs": [
    {
     "name": "stdout",
     "output_type": "stream",
     "text": [
      "Requirement already satisfied: sympy in /private/var/tmp/sage-10.5-current/local/var/lib/sage/venv-python3.12.5/lib/python3.12/site-packages (1.13.2)\n",
      "Requirement already satisfied: mpmath<1.4,>=1.1.0 in /private/var/tmp/sage-10.5-current/local/var/lib/sage/venv-python3.12.5/lib/python3.12/site-packages (from sympy) (1.3.0)\n",
      "\n",
      "\u001b[1m[\u001b[0m\u001b[34;49mnotice\u001b[0m\u001b[1;39;49m]\u001b[0m\u001b[39;49m A new release of pip is available: \u001b[0m\u001b[31;49m24.2\u001b[0m\u001b[39;49m -> \u001b[0m\u001b[32;49m25.0.1\u001b[0m\n",
      "\u001b[1m[\u001b[0m\u001b[34;49mnotice\u001b[0m\u001b[1;39;49m]\u001b[0m\u001b[39;49m To update, run: \u001b[0m\u001b[32;49mpip install --upgrade pip\u001b[0m\n",
      "Note: you may need to restart the kernel to use updated packages.\n"
     ]
    }
   ],
   "source": [
    "pip install sympy"
   ]
  },
  {
   "cell_type": "code",
   "execution_count": 16,
   "metadata": {},
   "outputs": [
    {
     "name": "stdout",
     "output_type": "stream",
     "text": [
      "0xc3348eace373f1f97fe6f64f4145b3bcf2488f31170c0ec8a404466029d55ded\n"
     ]
    }
   ],
   "source": [
    "from sympy import randprime, nextprime, isprime\n",
    "\n",
    "while True:\n",
    "    p = randprime(2**127, 2**128)\n",
    "    q = nextprime(p)\n",
    "    if isprime((p-1) // 2) and isprime((q-1) // 2):\n",
    "        break\n",
    "n = p * q\n",
    "print(hex(n))\n"
   ]
  },
  {
   "cell_type": "code",
   "execution_count": 20,
   "metadata": {},
   "outputs": [
    {
     "data": {
      "text/plain": [
       "(297142838093316797395239584655506733947,\n",
       " 297142838093316797395239584655506734007,\n",
       " 88293866230151080030893020425061239855612416383986897460225369425193446235629,\n",
       " '0xc3348eace373f1f97fe6f64f4145b3bcf2488f31170c0ec8a404466029d55ded',\n",
       " 60)"
      ]
     },
     "execution_count": 20,
     "metadata": {},
     "output_type": "execute_result"
    }
   ],
   "source": [
    "p,q,p*q,hex(p*q),q-p"
   ]
  },
  {
   "cell_type": "code",
   "execution_count": 3,
   "metadata": {},
   "outputs": [
    {
     "name": "stdout",
     "output_type": "stream",
     "text": [
      "58829909921605408036854349762686021036421037315721693301618611697787379052417\n"
     ]
    }
   ],
   "source": [
    "p = random_prime(2^128)\n",
    "q = next_prime(p)\n",
    "n = p * q\n",
    "print(n)"
   ]
  },
  {
   "cell_type": "code",
   "execution_count": null,
   "metadata": {},
   "outputs": [
    {
     "data": {
      "text/plain": [
       "8"
      ]
     },
     "execution_count": 5,
     "metadata": {},
     "output_type": "execute_result"
    }
   ],
   "source": [
    "(p-q).bit_length()"
   ]
  },
  {
   "cell_type": "code",
   "execution_count": 5,
   "metadata": {},
   "outputs": [],
   "source": [
    "def fermat_factorization(n):\n",
    "    if n <= 0:\n",
    "        raise ValueError(\"The number must be a positive integer.\")\n",
    "\n",
    "    # Check if n is a perfect square\n",
    "    if n.is_square():\n",
    "        return (n.isqrt(), n.isqrt())\n",
    "\n",
    "    x = n.isqrt()\n",
    "    if x * x == n:\n",
    "        return (x, x)\n",
    "\n",
    "    x += 1 if x * x < n else 0\n",
    "\n",
    "    while True:\n",
    "        y2 = x * x - n\n",
    "        if y2.is_square():\n",
    "            y = y2.isqrt()\n",
    "            return (x + y, x - y)\n",
    "        x += 1\n"
   ]
  },
  {
   "cell_type": "code",
   "execution_count": 18,
   "metadata": {},
   "outputs": [
    {
     "data": {
      "text/plain": [
       "(297142838093316797395239584655506734007,\n",
       " 297142838093316797395239584655506733947)"
      ]
     },
     "execution_count": 18,
     "metadata": {},
     "output_type": "execute_result"
    }
   ],
   "source": [
    "fermat_factorization(ZZ(n))"
   ]
  },
  {
   "cell_type": "code",
   "execution_count": null,
   "metadata": {},
   "outputs": [
    {
     "name": "stdout",
     "output_type": "stream",
     "text": [
      "149\n"
     ]
    },
    {
     "name": "stderr",
     "output_type": "stream",
     "text": [
      "IFAC: cracking composite\n",
      "\t510143758735509025530880200653196460532653147\n",
      "IFAC: checking for pure square\n",
      "IFAC: trying Pollard-Brent rho method\n",
      "Rho: searching small factor of 149-bit integer\n",
      "Rho: using X^2+7 for up to 1813 rounds of 32 iterations\n",
      "Rho: time =      6 ms,\t768 rounds\n",
      "Rho: fast forward phase (256 rounds of 64)...\n",
      "Rho: time =      3 ms,\t1028 rounds, back to normal mode\n",
      "Rho: time =      2 ms,\t1280 rounds\n",
      "Rho: time =      2 ms,\t1536 rounds\n",
      "Rho: time =      0 ms,\tPollard-Brent giving up.\n",
      "IFAC: trying Shanks' SQUFOF, will fail silently if input\n",
      "      is too large for it.\n",
      "IFAC: trying Lenstra-Montgomery ECM\n",
      "ECM: working on 8 curves at a time; initializing for one round...\n",
      "ECM: time =      0 ms\n",
      "ECM: B1 =  520,\tB2 =  57200,\tgss =   64*420\n",
      "ECM: time =      9 ms, B1 phase done, p = 521, setting up for B2\n",
      "ECM: time =      0 ms, entering B2 phase, p = 731\n",
      "ECM: time =      6 ms,\tellfacteur giving up.\n",
      "IFAC: trying MPQS\n",
      "MPQS: number to factor N = 510143758735509025530880200653196460532653147\n",
      "MPQS: factoring number of 45 decimal digits\n",
      "MPQS: sieving interval = [-24000, 24000]\n",
      "MPQS: size of factor base = 1401\n",
      "MPQS: striving for 1411 relations\n",
      "MPQS: coefficients A will be built from 7 primes each\n",
      "MPQS: primes for A to be chosen near FB[52] = 491\n",
      "MPQS: smallest prime used for sieving FB[13] = 37\n",
      "MPQS: largest prime in FB = 24443\n",
      "MPQS: bound for `large primes' = 1955440\n",
      "MPQS: computing relations: 1% 2% 3% 4% 5% 6% 7% 8% 9% 10% 11% 12% 13% 14% 15% 16% 17% 18% 19% 20% 21% 22% 23% 24% 25% 26% 27% 28% 29% 30% 31% 32% 33% 34% 35% 36% 37% 38% 39% 40% 41% 42% 43% 44% 45% 46% 47% 48% 49% 50% 51% 52% 53% 54% 55% 56% 57% 58% 59% 60% 61% 62% 63% 64% 65% 66% 67% 68% 69% 70% 71% 72% 73% 74% 75% 76% 77% 78% 79% 80% 81% 82% 83% 84% 85% 86% 87% 88% 89% 90% 91% 92% 93% 94% 95% 96% 97% 98% 99% 100%\n",
      "MPQS: starting Gauss over F_2 on 1413 distinct relations\n",
      "MPQS: Gauss done: kernel has rank 63, taking gcds...\n",
      "\n",
      "MPQS: time in Gauss and gcds = 5 ms\n",
      "MPQS: found 2 factors =\n",
      "\t19704762736204164635843,\n",
      "\t25889363174021185185929\n",
      "IFAC: factor 25889363174021185185929\n",
      "\tis prime\n",
      "IFAC: factor 19704762736204164635843\n",
      "\tis prime\n",
      "IFAC: prime 19704762736204164635843\n",
      "\tappears with exponent = 1\n",
      "IFAC: main loop: 1 factor left\n",
      "IFAC: prime 25889363174021185185929\n",
      "\tappears with exponent = 1\n",
      "IFAC: main loop: this was the last factor\n",
      "IFAC: found 2 large prime (power) factors.\n"
     ]
    },
    {
     "data": {
      "text/plain": [
       "19704762736204164635843 * 25889363174021185185929"
      ]
     },
     "execution_count": 11,
     "metadata": {},
     "output_type": "execute_result"
    }
   ],
   "source": [
    "n = 510143758735509025530880200653196460532653147\n",
    "print(n.bit_length())\n",
    "factor(n, verbose = 4)"
   ]
  },
  {
   "cell_type": "code",
   "execution_count": null,
   "metadata": {},
   "outputs": [],
   "source": []
  }
 ],
 "metadata": {
  "kernelspec": {
   "display_name": "SageMath 10.5",
   "language": "sage",
   "name": "SageMath-10.5"
  },
  "language_info": {
   "codemirror_mode": {
    "name": "ipython",
    "version": 3
   },
   "file_extension": ".py",
   "mimetype": "text/x-python",
   "name": "sage",
   "nbconvert_exporter": "python",
   "pygments_lexer": "ipython3",
   "version": "3.12.5"
  }
 },
 "nbformat": 4,
 "nbformat_minor": 2
}
