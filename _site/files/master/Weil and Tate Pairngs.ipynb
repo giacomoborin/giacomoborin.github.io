{
 "cells": [
  {
   "cell_type": "markdown",
   "id": "1b43f592",
   "metadata": {},
   "source": [
    "# Tate and Weil Pairings\n",
    "Notebook done by Giacomo Borin for the course *Advanced Number Theory* in *Università di Trento*.  \n",
    "The first part is necessary to define the curve and some useful functions. We will also implement the miller's algorithm, so is possible to use it to improve the efficency. \n",
    "Later we will use these functions to implement the pairings, leaving space for some testing."
   ]
  },
  {
   "cell_type": "markdown",
   "id": "3ca4c5ef",
   "metadata": {},
   "source": [
    "### Definition of the curve\n",
    "First we define a function to evaluate the embedding degree for a finite field of characteristic `q` and an integer `l`, that is the minimum $k$ such that $E[l] \\subset E(\\mathbb{F}_{q^k})$"
   ]
  },
  {
   "cell_type": "code",
   "execution_count": 1,
   "id": "1a873abc",
   "metadata": {},
   "outputs": [],
   "source": [
    "def embedding_degree(q,r):\n",
    "    r\"\"\"\n",
    "    Return the embedding degree of `q` over `l`\n",
    "    \n",
    "        INPUT:\n",
    "\n",
    "        - ``q`` -- a positive prime\n",
    "\n",
    "        - ``l`` -- a positive integer\n",
    "        \n",
    "        OUTPUT:\n",
    "\n",
    "        An integer.\n",
    "        Return an error if `q` is not prime\n",
    "    \"\"\"\n",
    "    if q.is_prime():\n",
    "        for k in NN:\n",
    "            if (q**k -1)%r == 0 and k != 0:\n",
    "                return k\n",
    "    else:\n",
    "        raise ValueError('%s is not prime' % q)"
   ]
  },
  {
   "cell_type": "code",
   "execution_count": 2,
   "id": "4fbab88f",
   "metadata": {},
   "outputs": [],
   "source": [
    "embedding_degree?"
   ]
  },
  {
   "cell_type": "markdown",
   "id": "92ce590b",
   "metadata": {},
   "source": [
    "Then we create an elliptic curve on the field $\\mathbb{F}_{q^k}$ defined by the equation $y^2 = x^3 +ax+b$"
   ]
  },
  {
   "cell_type": "code",
   "execution_count": 3,
   "id": "cf304c0a",
   "metadata": {},
   "outputs": [
    {
     "data": {
      "text/plain": [
       "Elliptic Curve defined by y^2 = x^3 + 22*x over Finite Field in g of size 23^2"
      ]
     },
     "execution_count": 3,
     "metadata": {},
     "output_type": "execute_result"
    }
   ],
   "source": [
    "q = 23\n",
    "l = 6\n",
    "k = embedding_degree(q,l)\n",
    "K.<g> = GF(q**k,'g')\n",
    "a = -1\n",
    "b = 0\n",
    "E = EllipticCurve(K,[a,b])\n",
    "E"
   ]
  },
  {
   "cell_type": "markdown",
   "id": "4a2c2e9a",
   "metadata": {},
   "source": [
    "Sage is capable of esecuting different calculation on the curve, for example:"
   ]
  },
  {
   "cell_type": "code",
   "execution_count": 4,
   "id": "a9014a0d",
   "metadata": {},
   "outputs": [
    {
     "data": {
      "text/plain": [
       "((15*g + 12 : 18*g + 8 : 1),\n",
       " (5*g + 17 : 18*g + 8 : 1),\n",
       " (3*g + 17 : 5*g + 15 : 1),\n",
       " 576,\n",
       " False)"
      ]
     },
     "execution_count": 4,
     "metadata": {},
     "output_type": "execute_result"
    }
   ],
   "source": [
    "P = E.gen(0)\n",
    "P, P+P, P + 2*P, E.cardinality(), E.is_singular()"
   ]
  },
  {
   "cell_type": "markdown",
   "id": "2e9127ac",
   "metadata": {},
   "source": [
    "*Observe that the points are always in affine form*"
   ]
  },
  {
   "cell_type": "markdown",
   "id": "06c6b346",
   "metadata": {},
   "source": [
    "### Line and functions\n",
    "Now we define two function to evaluate the line passing through some points, in particular `line_for` calculate the value on the line used in the definition of the group addition"
   ]
  },
  {
   "cell_type": "code",
   "execution_count": 5,
   "id": "f768040d",
   "metadata": {},
   "outputs": [],
   "source": [
    "def v_line_for(P,VAL):\n",
    "    r\"\"\"\n",
    "    Return the value of the vertical line passing through P on the point `VAL`\n",
    "    \n",
    "        INPUT:\n",
    "\n",
    "        - ``P`` -- a point on the elliptic curve\n",
    "        \n",
    "        - ``VAL`` -- another point on the elliptic curve for the evaluation of the function\n",
    "\n",
    "        OUTPUT:\n",
    "\n",
    "        An element in the base field of the Elliptic curve\n",
    "    \"\"\"\n",
    "    E = P.curve()\n",
    "    # case for the trivial line\n",
    "    if P == E(0):\n",
    "        return 1\n",
    "    else: \n",
    "        return VAL[0]-P[0]"
   ]
  },
  {
   "cell_type": "code",
   "execution_count": 6,
   "id": "fbd74ca4",
   "metadata": {},
   "outputs": [],
   "source": [
    "def line_for(P,Q,VAL):\n",
    "    r\"\"\"\n",
    "    Return the value of the line through P and Q on the point `VAL`\n",
    "    \n",
    "        INPUT:\n",
    "\n",
    "        - ``P,Q`` -- two points on the elliptic curve\n",
    "        \n",
    "        - ``VAL`` -- another point on the elliptic curve for the evaluation of the function\n",
    "\n",
    "        OUTPUT:\n",
    "\n",
    "        An element in the base field of the Elliptic curve\n",
    "    \"\"\"\n",
    "    E = P.curve()\n",
    "    if P != Q:\n",
    "        # first two cases are the ones with a vertical one\n",
    "        # observe that the situation with P and Q both zero is only possible in the last else\n",
    "        if Q == E(0) or P+Q == E(0):\n",
    "            return v_line_for(P,VAL)\n",
    "        elif P == E(0):\n",
    "            return v_line_for(Q,VAL)\n",
    "        # normal case of a line for two distinct points\n",
    "        else:\n",
    "            # lam is the angular coefficent of the affine line\n",
    "            lam = (Q[1] - P[1])/(Q[0] - P[0])\n",
    "            return VAL[1] - P[1] - lam * (VAL[0] - P[0])\n",
    "    else:\n",
    "        # case of a vertical line\n",
    "        # observe that this case absorb the situation of P and Q both zero\n",
    "        if P[1]==0:\n",
    "            return v_line_for(P,VAL)\n",
    "        else:\n",
    "            # here I recall the coefficent of the curve\n",
    "            a1, a2, a3, a4, a6 = E.a_invariants()\n",
    "            # lam is the angular coefficent of the affine line\n",
    "            # observe that in this case the line is the tangent line to E in P\n",
    "            lam = (3*P[0]**2 + 2*a2*P[0] + a4 - a1*P[1])/(2*P[1] + a1*P[0] + a3)\n",
    "            return VAL[1]-P[1] - lam*(VAL[0]-P[0])"
   ]
  },
  {
   "cell_type": "code",
   "execution_count": 7,
   "id": "3fc52ffb",
   "metadata": {},
   "outputs": [
    {
     "data": {
      "text/plain": [
       "(2*g + 3, 10*g + 16)"
      ]
     },
     "execution_count": 7,
     "metadata": {},
     "output_type": "execute_result"
    }
   ],
   "source": [
    "# some tests:\n",
    "P = E.random_point()\n",
    "Q = E.random_point()\n",
    "VAL = E.random_point()\n",
    "line_for(P,Q,VAL),line_for(P,P,Q)"
   ]
  },
  {
   "cell_type": "markdown",
   "id": "b7e36a84",
   "metadata": {},
   "source": [
    "### Definiton of the rational function $f_{m,P}$\n",
    "We now need to evaluate the rational function $f_{m,P}$ such that $(f_{m,P}) = m(P) - ([m]P) - \\{m-1\\}(O)$.  \n",
    "*Observe that $O$ is the zero point (or infinity point).*  "
   ]
  },
  {
   "cell_type": "markdown",
   "id": "7d27521b",
   "metadata": {},
   "source": [
    "First we will evaluate the function using the relation seen in the lectures:\n",
    "$$ f_{(m,P)} = f_{(m-1,P)} \\frac{l_{[m-1]P,P}}{v_{[m]P}} $$  \n",
    "We assume that $f_{0,P}$ is the $1$ function.  \n",
    "*Observe that if $P$ is in the torsion group $ E[m]$ than $(f_{m,P}) = m(P) - m(O)$*"
   ]
  },
  {
   "cell_type": "code",
   "execution_count": 8,
   "id": "7cee6038",
   "metadata": {},
   "outputs": [],
   "source": [
    "def f(m,P,VAL):\n",
    "    r\"\"\"\n",
    "    Return the value of the function f_m,P on the point `VAL`\n",
    "    \n",
    "        INPUT:\n",
    "\n",
    "        - ``m`` -- a positive integer\n",
    "\n",
    "        - ``P`` -- a point on the elliptic curve that is not the zero point\n",
    "        \n",
    "        - ``VAL`` -- another point on the elliptic curve for the evaluation of the function\n",
    "\n",
    "        OUTPUT:\n",
    "\n",
    "        An element in the base field of the Elliptic curve\n",
    "    \"\"\"\n",
    "    # errors\n",
    "    if P == E(0):\n",
    "        raise ValueError('P is the zero point')\n",
    "    # base case (trivial function)\n",
    "    if m == 1:\n",
    "        return 1\n",
    "    else:\n",
    "        # induction\n",
    "        f_m1 = f(m-1,P,VAL)\n",
    "        # lines\n",
    "        q1 = line_for((m-1)*P,P,VAL)\n",
    "        q2 = v_line_for(m*P,VAL)\n",
    "        return f_m1 * q1 / q2"
   ]
  },
  {
   "cell_type": "markdown",
   "id": "56f1ff7f",
   "metadata": {},
   "source": [
    "This one is a naive implementation, but using the same principle of the *Russian moltiplication algorithm* is possible to improve the efficency. This implementation is known as the ***Miller's algotithm***.\n",
    "In particular it uses the decomposition of the addition:\n",
    "$$(f_{a+b,P}) = (f_{a,P}) + (f_{b,P}) + \\{ ([a]P) + ([b]P) \\} - \\{([a+b]P) +(O)\\} = (f_{a,P}) + (f_{b,P}) + (l_{[a]P,[b]P}) - (v_{[a+b]P})$$"
   ]
  },
  {
   "cell_type": "code",
   "execution_count": 9,
   "id": "5cbb88b0",
   "metadata": {},
   "outputs": [],
   "source": [
    "def fm(m,P,VAL):\n",
    "    r\"\"\"\n",
    "    Return the value of the function f_m,P on the point `VAL` using a more efficent implementation\n",
    "    \n",
    "        INPUT:\n",
    "\n",
    "        - ``m`` -- a positive integer\n",
    "\n",
    "        - ``P`` -- a point on the elliptic curve that is not the zero point\n",
    "        \n",
    "        - ``VAL`` -- another point on the elliptic curve for the evaluation of the function\n",
    "\n",
    "        OUTPUT:\n",
    "\n",
    "        An element in the base field of the Elliptic curve\n",
    "    \"\"\"\n",
    "    # errors\n",
    "    if P == E(0):\n",
    "        raise ValueError('P is the zero point')\n",
    "    # a simple function that evaluate l(P,Q)/v(P+Q)\n",
    "    def v_hm(P,Q,VAL):\n",
    "        return line_for(P,Q,VAL)/v_line_for(P+Q,VAL)\n",
    "    # T assignation\n",
    "    T = P\n",
    "    # base case\n",
    "    fm = 1\n",
    "    # write m in base 2\n",
    "    mbits = m.bits()\n",
    "    mbits.reverse()\n",
    "    # intresting part\n",
    "    for i in range(1,len(mbits)):\n",
    "        # 'Doubling' of the function\n",
    "        fm = (fm**2) * v_hm(T,T,VAL)\n",
    "        # Doubling of the point\n",
    "        T = 2*T\n",
    "        if mbits[i]==1:\n",
    "            # correction part necessary for the 1 bits\n",
    "            fm = fm * v_hm(T,P,VAL)\n",
    "            T = T + P\n",
    "    return fm"
   ]
  },
  {
   "cell_type": "code",
   "execution_count": 10,
   "id": "506952f1",
   "metadata": {},
   "outputs": [
    {
     "data": {
      "text/plain": [
       "(True, True)"
      ]
     },
     "execution_count": 10,
     "metadata": {},
     "output_type": "execute_result"
    }
   ],
   "source": [
    "# some test using the _miller_ function from sage\n",
    "Q = E.random_element()\n",
    "P = E.random_element()\n",
    "P._miller_(Q,l) == f(l,P,Q),\\\n",
    "P._miller_(Q,l) == fm(l,P,Q)"
   ]
  },
  {
   "cell_type": "code",
   "execution_count": 11,
   "id": "4127ddf4",
   "metadata": {},
   "outputs": [],
   "source": [
    "fm?"
   ]
  },
  {
   "cell_type": "markdown",
   "id": "41b1f2c2",
   "metadata": {},
   "source": [
    "## Weil Pairing\n",
    "The Weil pairing can be defined in several ways, I've chose this one:  \n",
    "Given two points $P,Q$ of $r$-torsion in the curve $E(\\mathbb{F}_{q^k})$ consider the divisors $D_{P} = (P) - (O)$ and $D_{Q} = (Q) - (O)$, then the functions such that $(f_{r,P}) =  rD_P$ and $(f_{r,Q}) =  rD_Q$. \n",
    "Hence, if $\\mu_r$ is the set of the $r$-root of unity, the Weil pairing $w_r:E[r] \\times E[r] \\to \\mu_r$ is:  \n",
    "$$ w_r(P,Q) = \\frac{f_{r,P}(D_Q)}{f_{r,Q}(D_P)}$$"
   ]
  },
  {
   "cell_type": "code",
   "execution_count": 12,
   "id": "c5d3e997",
   "metadata": {},
   "outputs": [],
   "source": [
    "def b_weil_pairing(P1,Q1,r):\n",
    "    r\"\"\"\n",
    "        Compute the Weil pairing of P1 and Q1 using a random point to assist the evaluation\n",
    "\n",
    "        INPUT:\n",
    "\n",
    "        - ``P1,Q1`` -- two points on the same elliptic curve.\n",
    "\n",
    "        - ``r`` -- a positive integer such that P1 and Q1 are of r-torsion\n",
    "\n",
    "        OUTPUT:\n",
    "\n",
    "        An `r`'th root of unity in the base field of the Elliptic curve\n",
    "    \"\"\"\n",
    "    # check the errors\n",
    "    if r*P1 != E(0):\n",
    "        raise ValueError('The first point is not of %s-torsion' % r)\n",
    "    if r*Q1 != E(0):\n",
    "        raise ValueError('The second point is not of %s-torsion' % r)\n",
    "    # case for (0:1:0)\n",
    "    if P1 == E(0) or Q1 == E(0):\n",
    "        return 1\n",
    "    # interesting case\n",
    "    while True:\n",
    "        try:\n",
    "            # This part is necessary to find a S necessary to evaluate the function on \n",
    "            # the divisors (Q)-(O) and (P)-(O)\n",
    "            # In fact we want a point S such that S, Q1+S are not in the support of f_P1 and \n",
    "            # -S,Q1+S are not in the support of f_Q1 \n",
    "            S = E.random_element()\n",
    "            while S in [E(0) , P1 , -Q1 , P1-Q1]:\n",
    "                S = E.random_element()\n",
    "            # evaluation of the pairing\n",
    "            num = f(r,P1,Q1+S)*f(r,Q1,-S)\n",
    "            den = f(r,Q1,P1-S)*f(r,P1,S)\n",
    "            # uncomment for a more efficent implementetion with miller's algorithm\n",
    "            # num = fm(r,P1,Q1+S)*fm(r,Q1,-S)\n",
    "            # den = fm(r,Q1,P1-S)*fm(r,P1,S)\n",
    "            return num/den \n",
    "        except ZeroDivisionError:\n",
    "            # this try catch is necessary in the case that during the evaluation of f we get a division by zero\n",
    "            # for example if S is [j]P1 or -[j]P1 with 0 < j < l (very rare)\n",
    "            print('Error',S)  "
   ]
  },
  {
   "cell_type": "code",
   "execution_count": 13,
   "id": "d9a386af",
   "metadata": {},
   "outputs": [],
   "source": [
    "b_weil_pairing?"
   ]
  },
  {
   "cell_type": "markdown",
   "id": "15a8bc81",
   "metadata": {},
   "source": [
    "### Test area\n",
    "The first test is a simple check for the base properties of the pairings"
   ]
  },
  {
   "cell_type": "code",
   "execution_count": 14,
   "id": "3bd31f38",
   "metadata": {},
   "outputs": [
    {
     "data": {
      "text/plain": [
       "(1, 1, 19*g + 16, 19*g + 16, 1, 1)"
      ]
     },
     "execution_count": 14,
     "metadata": {},
     "output_type": "execute_result"
    }
   ],
   "source": [
    "Q = E.random_element()\n",
    "P = E.random_element()\n",
    "R = E.random_element()\n",
    "# very rude methood to get a point of given order, sometimes it does not work\n",
    "P = (P.order()//l)*P\n",
    "Q = (Q.order()//l)*Q\n",
    "R = (R.order()//l)*R\n",
    "a,b = randint(1,100), randint(1,100)\n",
    "b_weil_pairing(P,Q+R,l),\\\n",
    "b_weil_pairing(P,Q,l)* b_weil_pairing(P,R,l),\\\n",
    "b_weil_pairing(P+Q,R,l),\\\n",
    "b_weil_pairing(P,R,l)* b_weil_pairing(Q,R,l),\\\n",
    "b_weil_pairing(a*P,b*R,l),\\\n",
    "b_weil_pairing(P,R,l)^(a*b)"
   ]
  },
  {
   "cell_type": "markdown",
   "id": "d64352fa",
   "metadata": {},
   "source": [
    "The result of this simple test are: \n",
    "* the Weil pairng\n",
    "* if the result is a rooth of unity (as expected)\n",
    "* if the result is the same of the native sage implementation"
   ]
  },
  {
   "cell_type": "code",
   "execution_count": 16,
   "id": "bef493fe",
   "metadata": {
    "scrolled": true
   },
   "outputs": [
    {
     "data": {
      "text/plain": [
       "(22, True, True)"
      ]
     },
     "execution_count": 16,
     "metadata": {},
     "output_type": "execute_result"
    }
   ],
   "source": [
    "Q = E.random_element()\n",
    "P = E.random_element()\n",
    "P = (P.order()//l)*P\n",
    "Q = (Q.order()//l)*Q\n",
    "(b_weil_pairing(P,Q,l)),\\\n",
    "(P.weil_pairing(Q,l))**l==1,\\\n",
    "P.weil_pairing(Q,l) == b_weil_pairing(P,Q,l)"
   ]
  },
  {
   "cell_type": "markdown",
   "id": "6590a251",
   "metadata": {},
   "source": [
    "#### space for more test"
   ]
  },
  {
   "cell_type": "code",
   "execution_count": 17,
   "id": "800f156c",
   "metadata": {},
   "outputs": [],
   "source": [
    "Q = E.random_element()\n",
    "P = E.random_element()\n",
    "R = E.random_element()\n",
    "P = (P.order()//l)*P\n",
    "Q = (Q.order()//l)*Q\n",
    "R = (R.order()//l)*R\n",
    "a,b = randint(1,100), randint(1,100)"
   ]
  },
  {
   "cell_type": "markdown",
   "id": "d8a1e4bb",
   "metadata": {},
   "source": [
    "## Tate pairing\n",
    "Given the point $P \\in E[r]$ and $Q$ a representative of a coset in $E/rE$, where $E$ is the curve $E(\\mathbb{F}_{q^k})$ ($k$ is the embedding degree) the divisor $D_{Q} = (Q) - (O)$ and the function such that $(f_{r,P}) =  r(P) - r(O)$.  \n",
    "Then the Tate pairing $t_r:E[r] \\times E/rE \\to \\mathbb{F}_{q^k}^* / (\\mathbb{F}_{q^k}^*)^r $ is:  \n",
    "$$ t_r(P,Q) = f_{r,P}(D_Q)$$\n",
    "Since the result is a coset representative in order to obtain uniqueness we exponentiate the result by $(q^k -1)/r$, so we obtain what is sometimes called the *modified Tate pairng*"
   ]
  },
  {
   "cell_type": "code",
   "execution_count": 18,
   "id": "46e0ac04",
   "metadata": {},
   "outputs": [],
   "source": [
    "def b_tate_pairing(P1,Q1,r,k):\n",
    "    r\"\"\"\n",
    "        Compute the Tate pairing of P1 and Q1 using a random point to assist the evaluation\n",
    "\n",
    "        INPUT:\n",
    "\n",
    "        - ``P1,Q1`` -- two points on the same elliptic curve.\n",
    "\n",
    "        - ``r`` -- a positive integer `r` such that P1 is of r-torsion\n",
    "        \n",
    "        - ``k`` -- the embedding degree of r (positive integer)\n",
    "\n",
    "        OUTPUT:\n",
    "\n",
    "        A unique element in the base field of the Elliptic curve\n",
    "    \"\"\"\n",
    "    # errors\n",
    "    if r*P1 != E(0):\n",
    "        raise ValueError('The first point is not of %s-torsion' % r)\n",
    "    if P1 == E(0) or Q1 == E(0):\n",
    "        return 1\n",
    "    while True:\n",
    "        try:\n",
    "            # This part is necessary to find a S necessary to evaluate the function on the divisor (Q)-(O)\n",
    "            # In fact we want a point S such that S and Q1+S are not in the support of f_P1\n",
    "            S = E.random_element()\n",
    "            while (S in [E(0) , P1 , -Q1 , P1-Q1]):\n",
    "                S = E.random_element()\n",
    "            # here we evaluate f_P on (Q1+S) - (S) ~  (Q1) - (O)\n",
    "            d = f(r,P1,Q1 + S) / f(r,P1,S)\n",
    "            # uncomment for a more efficent implementetion with miller's algorithm\n",
    "            # d = fm(r,P1,Q1 + S) / fm(r,P1,S)\n",
    "            # we raise d to the power (q**k - 1)/r to get a unique result, but it is not necessary\n",
    "            d = d ** ((q**k - 1)/r)\n",
    "            return d\n",
    "        except ZeroDivisionError:\n",
    "            # this try catch is necessary in the case that during the evaluation of f we get a division by zero\n",
    "            # for example if S is [j]P1 or -[j]P1 with 0 < j < l (very rare)\n",
    "            print('Error',S)    "
   ]
  },
  {
   "cell_type": "markdown",
   "id": "14ba7076",
   "metadata": {},
   "source": [
    "### Test area\n",
    "The first test is a simple check for the base properties of the pairings. The second is to see that it does not depend on the representative. "
   ]
  },
  {
   "cell_type": "code",
   "execution_count": 19,
   "id": "65505681",
   "metadata": {},
   "outputs": [
    {
     "data": {
      "text/plain": [
       "(19*g + 15, 19*g + 15, 1, 1)"
      ]
     },
     "execution_count": 19,
     "metadata": {},
     "output_type": "execute_result"
    }
   ],
   "source": [
    "Q = E.random_element()\n",
    "P = E.random_element()\n",
    "R = E.random_element()\n",
    "# very rude methood to get a point of given order, sometimes it does not work\n",
    "P = (P.order()//l)*P\n",
    "a,b = randint(1,100), randint(1,100)\n",
    "b_tate_pairing(P,Q+R,l,k),\\\n",
    "b_tate_pairing(P,Q,l,k)* b_tate_pairing(P,R,l,k),\\\n",
    "b_tate_pairing(a*P,b*R,l,k),\\\n",
    "b_tate_pairing(P,R,l,k)^(a*b)"
   ]
  },
  {
   "cell_type": "code",
   "execution_count": 20,
   "id": "746fe530",
   "metadata": {},
   "outputs": [
    {
     "data": {
      "text/plain": [
       "(4*g + 8, 4*g + 8)"
      ]
     },
     "execution_count": 20,
     "metadata": {},
     "output_type": "execute_result"
    }
   ],
   "source": [
    "Q = E.random_element()\n",
    "P = E.random_element()\n",
    "R = E.random_element()\n",
    "P = (P.order()//l)*P\n",
    "b_tate_pairing(P,Q,l,k),\\\n",
    "b_tate_pairing(P,Q+l*R,l,k)"
   ]
  },
  {
   "cell_type": "markdown",
   "id": "499abf4e",
   "metadata": {},
   "source": [
    "The result of this simple test are: \n",
    "* the Tate pairng\n",
    "* if the result is the same of the native sage implementation"
   ]
  },
  {
   "cell_type": "code",
   "execution_count": 21,
   "id": "43443a1b",
   "metadata": {
    "scrolled": true
   },
   "outputs": [
    {
     "data": {
      "text/plain": [
       "(22, True)"
      ]
     },
     "execution_count": 21,
     "metadata": {},
     "output_type": "execute_result"
    }
   ],
   "source": [
    "Q = E.random_element()\n",
    "P = E.random_element()\n",
    "P = (P.order()//l)*P\n",
    "b_tate_pairing(P,Q,l,k),\\\n",
    "P.tate_pairing(Q,l,k) == b_tate_pairing(P,Q,l,k)"
   ]
  },
  {
   "cell_type": "markdown",
   "id": "08f27b7c",
   "metadata": {},
   "source": [
    "#### space for more test"
   ]
  },
  {
   "cell_type": "code",
   "execution_count": 22,
   "id": "15b6b1ef",
   "metadata": {},
   "outputs": [],
   "source": [
    "Q = E.random_element()\n",
    "P = E.random_element()\n",
    "R = E.random_element()\n",
    "P = (P.order()//l)*P\n",
    "a,b = randint(1,100), randint(1,100)"
   ]
  },
  {
   "cell_type": "markdown",
   "id": "69dc26b1",
   "metadata": {},
   "source": [
    "### End of the implementation\n",
    "*A little note.* Is possible that you have obtained some errors during the test: this is due to the rude methood used to get point of $l$-torsion. This is intentional because it is the fastest way to get these points and I'd like you to see that the functions are capable to raise errors for these cases.    \n",
    "Hoping that you had fun using this script.  \n",
    "Best regards,  \n",
    "Giacomo Borin"
   ]
  }
 ],
 "metadata": {
  "kernelspec": {
   "display_name": "SageMath 9.2",
   "language": "sage",
   "name": "sagemath"
  },
  "language_info": {
   "codemirror_mode": {
    "name": "ipython",
    "version": 3
   },
   "file_extension": ".py",
   "mimetype": "text/x-python",
   "name": "python",
   "nbconvert_exporter": "python",
   "pygments_lexer": "ipython3",
   "version": "3.9.1"
  }
 },
 "nbformat": 4,
 "nbformat_minor": 5
}
